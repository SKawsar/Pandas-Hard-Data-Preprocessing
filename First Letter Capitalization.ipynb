{
 "cells": [
  {
   "cell_type": "code",
   "id": "initial_id",
   "metadata": {
    "collapsed": true,
    "ExecuteTime": {
     "end_time": "2025-02-25T23:04:58.779062Z",
     "start_time": "2025-02-25T23:04:58.749442Z"
    }
   },
   "source": [
    "import pandas as pd\n",
    "\n",
    "data = [[1, 'hello world of SQL'],\n",
    "        [2, 'the QUICK brown fox'],\n",
    "        [3, 'data science AND machine learning'],\n",
    "        [4, 'TOP rated programming BOOKS']]\n",
    "\n",
    "user_content = pd.DataFrame(data, columns=['content_id', 'content_text']).astype({'content_id':'Int64', 'content_text': str})\n",
    "\n",
    "display(user_content)"
   ],
   "outputs": [
    {
     "data": {
      "text/plain": [
       "   content_id                       content_text\n",
       "0           1                 hello world of SQL\n",
       "1           2                the QUICK brown fox\n",
       "2           3  data science AND machine learning\n",
       "3           4        TOP rated programming BOOKS"
      ],
      "text/html": [
       "<div>\n",
       "<style scoped>\n",
       "    .dataframe tbody tr th:only-of-type {\n",
       "        vertical-align: middle;\n",
       "    }\n",
       "\n",
       "    .dataframe tbody tr th {\n",
       "        vertical-align: top;\n",
       "    }\n",
       "\n",
       "    .dataframe thead th {\n",
       "        text-align: right;\n",
       "    }\n",
       "</style>\n",
       "<table border=\"1\" class=\"dataframe\">\n",
       "  <thead>\n",
       "    <tr style=\"text-align: right;\">\n",
       "      <th></th>\n",
       "      <th>content_id</th>\n",
       "      <th>content_text</th>\n",
       "    </tr>\n",
       "  </thead>\n",
       "  <tbody>\n",
       "    <tr>\n",
       "      <th>0</th>\n",
       "      <td>1</td>\n",
       "      <td>hello world of SQL</td>\n",
       "    </tr>\n",
       "    <tr>\n",
       "      <th>1</th>\n",
       "      <td>2</td>\n",
       "      <td>the QUICK brown fox</td>\n",
       "    </tr>\n",
       "    <tr>\n",
       "      <th>2</th>\n",
       "      <td>3</td>\n",
       "      <td>data science AND machine learning</td>\n",
       "    </tr>\n",
       "    <tr>\n",
       "      <th>3</th>\n",
       "      <td>4</td>\n",
       "      <td>TOP rated programming BOOKS</td>\n",
       "    </tr>\n",
       "  </tbody>\n",
       "</table>\n",
       "</div>"
      ]
     },
     "metadata": {},
     "output_type": "display_data"
    }
   ],
   "execution_count": 12
  },
  {
   "metadata": {
    "ExecuteTime": {
     "end_time": "2025-02-25T23:04:58.811495Z",
     "start_time": "2025-02-25T23:04:58.779062Z"
    }
   },
   "cell_type": "code",
   "source": [
    "user_content = user_content.rename(columns={\"content_text\": \"original_text\"})\n",
    "user_content[\"converted_text\"] = user_content[\"original_text\"].str.title()\n",
    "display(user_content)"
   ],
   "id": "966a37b3f12a58f6",
   "outputs": [
    {
     "data": {
      "text/plain": [
       "   content_id                      original_text  \\\n",
       "0           1                 hello world of SQL   \n",
       "1           2                the QUICK brown fox   \n",
       "2           3  data science AND machine learning   \n",
       "3           4        TOP rated programming BOOKS   \n",
       "\n",
       "                      converted_text  \n",
       "0                 Hello World Of Sql  \n",
       "1                The Quick Brown Fox  \n",
       "2  Data Science And Machine Learning  \n",
       "3        Top Rated Programming Books  "
      ],
      "text/html": [
       "<div>\n",
       "<style scoped>\n",
       "    .dataframe tbody tr th:only-of-type {\n",
       "        vertical-align: middle;\n",
       "    }\n",
       "\n",
       "    .dataframe tbody tr th {\n",
       "        vertical-align: top;\n",
       "    }\n",
       "\n",
       "    .dataframe thead th {\n",
       "        text-align: right;\n",
       "    }\n",
       "</style>\n",
       "<table border=\"1\" class=\"dataframe\">\n",
       "  <thead>\n",
       "    <tr style=\"text-align: right;\">\n",
       "      <th></th>\n",
       "      <th>content_id</th>\n",
       "      <th>original_text</th>\n",
       "      <th>converted_text</th>\n",
       "    </tr>\n",
       "  </thead>\n",
       "  <tbody>\n",
       "    <tr>\n",
       "      <th>0</th>\n",
       "      <td>1</td>\n",
       "      <td>hello world of SQL</td>\n",
       "      <td>Hello World Of Sql</td>\n",
       "    </tr>\n",
       "    <tr>\n",
       "      <th>1</th>\n",
       "      <td>2</td>\n",
       "      <td>the QUICK brown fox</td>\n",
       "      <td>The Quick Brown Fox</td>\n",
       "    </tr>\n",
       "    <tr>\n",
       "      <th>2</th>\n",
       "      <td>3</td>\n",
       "      <td>data science AND machine learning</td>\n",
       "      <td>Data Science And Machine Learning</td>\n",
       "    </tr>\n",
       "    <tr>\n",
       "      <th>3</th>\n",
       "      <td>4</td>\n",
       "      <td>TOP rated programming BOOKS</td>\n",
       "      <td>Top Rated Programming Books</td>\n",
       "    </tr>\n",
       "  </tbody>\n",
       "</table>\n",
       "</div>"
      ]
     },
     "metadata": {},
     "output_type": "display_data"
    }
   ],
   "execution_count": 13
  },
  {
   "metadata": {
    "ExecuteTime": {
     "end_time": "2025-02-25T23:04:58.891189Z",
     "start_time": "2025-02-25T23:04:58.882565Z"
    }
   },
   "cell_type": "code",
   "source": "",
   "id": "eacd9aa60a45c25a",
   "outputs": [],
   "execution_count": null
  }
 ],
 "metadata": {
  "kernelspec": {
   "display_name": "Python 3",
   "language": "python",
   "name": "python3"
  },
  "language_info": {
   "codemirror_mode": {
    "name": "ipython",
    "version": 2
   },
   "file_extension": ".py",
   "mimetype": "text/x-python",
   "name": "python",
   "nbconvert_exporter": "python",
   "pygments_lexer": "ipython2",
   "version": "2.7.6"
  }
 },
 "nbformat": 4,
 "nbformat_minor": 5
}
