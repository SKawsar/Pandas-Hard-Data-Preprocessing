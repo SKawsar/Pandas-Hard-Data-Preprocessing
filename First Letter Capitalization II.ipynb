{
 "cells": [
  {
   "metadata": {},
   "cell_type": "markdown",
   "source": [
    "# First Letter Capitalization II using Pandas\n",
    "\n",
    "When working with text data, ensuring consistent formatting is crucial for readability and professionalism. A common requirement in databases and content management systems is to capitalize each word correctly while maintaining special formatting rules for hyphenated words.\n",
    "\n",
    "In this blog, we'll tackle a practical Pandas text transformation problem, where we need to:\n",
    "- Convert the first letter of each word to uppercase while keeping the rest in lowercase.\n",
    "- Properly handle hyphenated words by capitalizing both parts (e.g., \"modern-day\" → \"Modern-Day\").\n",
    "- Preserve the original structure and spacing of the content.\n",
    "\n",
    "To achieve this, we'll explore Python-based solutions using Pandas to efficiently process text stored in a table. By the end of this post, you'll have a clean and structured approach to transforming text while ensuring accurate formatting.\n",
    "\n",
    "Let’s dive in!\n",
    "\n",
    "**Table: user_content**\n",
    "\n",
    "| Column Name  | Type    |\n",
    "|--------------|---------|\n",
    "| content_id   | int     |\n",
    "| content_text | varchar |\n",
    "\n",
    "content_id is the unique key for this table.\n",
    "Each row contains a unique ID and the corresponding text content.\n",
    "Write a solution to transform the text in the content_text column by applying the following rules:\n",
    "\n",
    "Convert the first letter of each word to uppercase and the remaining letters to lowercase\n",
    "Special handling for words containing special characters:\n",
    "For words connected with a hyphen -, both parts should be capitalized (e.g., top-rated → Top-Rated)\n",
    "All other formatting and spacing should remain unchanged\n",
    "Return the result table that includes both the original content_text and the modified text following the above rules.\n",
    "\n",
    "The result format is in the following example.\n",
    "\n",
    "Input:\n",
    "**user_content table:**\n",
    "| content_id | content_text                          |\n",
    "|------------|---------------------------------------|\n",
    "| 1          | hello world of SQL                    |\n",
    "| 2          | the QUICK-brown fox                   |\n",
    "| 3          | modern-day DATA science               |\n",
    "| 4          | web-based FRONT-end development       |\n",
    "\n",
    "**Transformed User Content**\n",
    "\n",
    "The table below presents the original text content along with the transformed version, where:\n",
    "- Each word's first letter is capitalized while the rest are in lowercase.\n",
    "- Words connected by a hyphen are capitalized on both parts.\n",
    "\n",
    "| content_id | Original Text                          | Converted Text                        |\n",
    "|------------|---------------------------------------|----------------------------------------|\n",
    "| 1          | hello world of SQL                    | Hello World Of Sql                    |\n",
    "| 2          | the QUICK-brown fox                   | The Quick-Brown Fox                   |\n",
    "| 3          | modern-day DATA science               | Modern-Day Data Science               |\n",
    "| 4          | web-based FRONT-end development       | Web-Based Front-End Development       |\n",
    "\n",
    "### Explanation:\n",
    "\n",
    "- **Content ID 1**:\n",
    "  - \"hello world of SQL\" → \"Hello World Of Sql\"\n",
    "- **Content ID 2**:\n",
    "  - \"the QUICK-brown fox\" → \"The Quick-Brown Fox\"\n",
    "  - The hyphenated word \"QUICK-brown\" is converted to \"Quick-Brown\".\n",
    "- **Content ID 3**:\n",
    "  - \"modern-day DATA science\" → \"Modern-Day Data Science\"\n",
    "  - \"modern-day\" maintains proper casing: \"Modern-Day\".\n",
    "  - \"DATA\" is converted to \"Data\".\n",
    "- **Content ID 4**:\n",
    "  - \"web-based FRONT-end development\" → \"Web-Based Front-End Development\"\n",
    "  - Both hyphenated words \"web-based\" and \"FRONT-end\" follow proper casing.\n",
    "\n",
    "The transformation ensures consistent formatting while preserving hyphenated word structures.\n",
    "\n"
   ],
   "id": "12fc438448714494"
  },
  {
   "metadata": {
    "collapsed": true,
    "ExecuteTime": {
     "end_time": "2025-03-14T17:32:05.349112Z",
     "start_time": "2025-03-14T17:32:05.339142Z"
    }
   },
   "cell_type": "code",
   "source": [
    "import pandas as pd\n",
    "\n",
    "data = [[1, 'hello world of SQL'],\n",
    "        [2, 'the QUICK-brown fox'],\n",
    "        [3, 'modern-day DATA science'],\n",
    "        [4, 'web-based FRONT-end development']]\n",
    "\n",
    "user_content = pd.DataFrame(data,\n",
    "                            columns=['content_id',\n",
    "                                     'content_text']).astype(\n",
    "                            {'content_id':'Int64',\n",
    "                             'content_text': str})\n",
    "display(user_content)"
   ],
   "id": "initial_id",
   "outputs": [
    {
     "data": {
      "text/plain": [
       "   content_id                     content_text\n",
       "0           1               hello world of SQL\n",
       "1           2              the QUICK-brown fox\n",
       "2           3          modern-day DATA science\n",
       "3           4  web-based FRONT-end development"
      ],
      "text/html": [
       "<div>\n",
       "<style scoped>\n",
       "    .dataframe tbody tr th:only-of-type {\n",
       "        vertical-align: middle;\n",
       "    }\n",
       "\n",
       "    .dataframe tbody tr th {\n",
       "        vertical-align: top;\n",
       "    }\n",
       "\n",
       "    .dataframe thead th {\n",
       "        text-align: right;\n",
       "    }\n",
       "</style>\n",
       "<table border=\"1\" class=\"dataframe\">\n",
       "  <thead>\n",
       "    <tr style=\"text-align: right;\">\n",
       "      <th></th>\n",
       "      <th>content_id</th>\n",
       "      <th>content_text</th>\n",
       "    </tr>\n",
       "  </thead>\n",
       "  <tbody>\n",
       "    <tr>\n",
       "      <th>0</th>\n",
       "      <td>1</td>\n",
       "      <td>hello world of SQL</td>\n",
       "    </tr>\n",
       "    <tr>\n",
       "      <th>1</th>\n",
       "      <td>2</td>\n",
       "      <td>the QUICK-brown fox</td>\n",
       "    </tr>\n",
       "    <tr>\n",
       "      <th>2</th>\n",
       "      <td>3</td>\n",
       "      <td>modern-day DATA science</td>\n",
       "    </tr>\n",
       "    <tr>\n",
       "      <th>3</th>\n",
       "      <td>4</td>\n",
       "      <td>web-based FRONT-end development</td>\n",
       "    </tr>\n",
       "  </tbody>\n",
       "</table>\n",
       "</div>"
      ]
     },
     "metadata": {},
     "output_type": "display_data"
    }
   ],
   "execution_count": 4
  },
  {
   "metadata": {},
   "cell_type": "markdown",
   "source": [
    "**Step 1: Applying Transformation to content_text**\n",
    "- This line creates a new column called converted_text in the user_content DataFrame.\n",
    "- It applies a function to every value in the content_text column using .apply().\n",
    "- The function lambda s: s.title() takes each string s and applies the .title() method.\n",
    "- .title() converts each word's first letter to uppercase and the rest to lowercase.\n",
    "- Example: \"hello world\" → \"Hello World\"\n",
    "- However, this does not correctly handle hyphenated words like \"front-end\", which would become \"Front-End\" (which is correct in this case, but .title() may not always handle special cases properly)."
   ],
   "id": "4f562bcb2bf9a363"
  },
  {
   "metadata": {
    "ExecuteTime": {
     "end_time": "2025-03-14T17:32:05.373322Z",
     "start_time": "2025-03-14T17:32:05.349112Z"
    }
   },
   "cell_type": "code",
   "source": [
    "user_content[\"converted_text\"] = user_content[\"content_text\"].apply(lambda s: s.title())\n",
    "display(user_content)"
   ],
   "id": "712a1c5031ea4924",
   "outputs": [
    {
     "data": {
      "text/plain": [
       "   content_id                     content_text  \\\n",
       "0           1               hello world of SQL   \n",
       "1           2              the QUICK-brown fox   \n",
       "2           3          modern-day DATA science   \n",
       "3           4  web-based FRONT-end development   \n",
       "\n",
       "                    converted_text  \n",
       "0               Hello World Of Sql  \n",
       "1              The Quick-Brown Fox  \n",
       "2          Modern-Day Data Science  \n",
       "3  Web-Based Front-End Development  "
      ],
      "text/html": [
       "<div>\n",
       "<style scoped>\n",
       "    .dataframe tbody tr th:only-of-type {\n",
       "        vertical-align: middle;\n",
       "    }\n",
       "\n",
       "    .dataframe tbody tr th {\n",
       "        vertical-align: top;\n",
       "    }\n",
       "\n",
       "    .dataframe thead th {\n",
       "        text-align: right;\n",
       "    }\n",
       "</style>\n",
       "<table border=\"1\" class=\"dataframe\">\n",
       "  <thead>\n",
       "    <tr style=\"text-align: right;\">\n",
       "      <th></th>\n",
       "      <th>content_id</th>\n",
       "      <th>content_text</th>\n",
       "      <th>converted_text</th>\n",
       "    </tr>\n",
       "  </thead>\n",
       "  <tbody>\n",
       "    <tr>\n",
       "      <th>0</th>\n",
       "      <td>1</td>\n",
       "      <td>hello world of SQL</td>\n",
       "      <td>Hello World Of Sql</td>\n",
       "    </tr>\n",
       "    <tr>\n",
       "      <th>1</th>\n",
       "      <td>2</td>\n",
       "      <td>the QUICK-brown fox</td>\n",
       "      <td>The Quick-Brown Fox</td>\n",
       "    </tr>\n",
       "    <tr>\n",
       "      <th>2</th>\n",
       "      <td>3</td>\n",
       "      <td>modern-day DATA science</td>\n",
       "      <td>Modern-Day Data Science</td>\n",
       "    </tr>\n",
       "    <tr>\n",
       "      <th>3</th>\n",
       "      <td>4</td>\n",
       "      <td>web-based FRONT-end development</td>\n",
       "      <td>Web-Based Front-End Development</td>\n",
       "    </tr>\n",
       "  </tbody>\n",
       "</table>\n",
       "</div>"
      ]
     },
     "metadata": {},
     "output_type": "display_data"
    }
   ],
   "execution_count": 5
  },
  {
   "metadata": {},
   "cell_type": "markdown",
   "source": [
    "**Step 2: Renaming content_text to original_text**\n",
    "- This line renames the column content_text to original_text for better readability.\n",
    "- .rename(columns={...}) is a method used to change column names in a DataFrame.\n",
    "- inplace=True means that the change is applied directly to user_content without needing to reassign it."
   ],
   "id": "2742e7794c7e34c0"
  },
  {
   "metadata": {
    "ExecuteTime": {
     "end_time": "2025-03-14T17:32:05.457097Z",
     "start_time": "2025-03-14T17:32:05.431347Z"
    }
   },
   "cell_type": "code",
   "source": [
    "user_content.rename(columns={\"content_text\":\"original_text\"}, inplace=True)\n",
    "display(user_content)"
   ],
   "id": "fb5ccf1f0fed7855",
   "outputs": [
    {
     "data": {
      "text/plain": [
       "   content_id                    original_text  \\\n",
       "0           1               hello world of SQL   \n",
       "1           2              the QUICK-brown fox   \n",
       "2           3          modern-day DATA science   \n",
       "3           4  web-based FRONT-end development   \n",
       "\n",
       "                    converted_text  \n",
       "0               Hello World Of Sql  \n",
       "1              The Quick-Brown Fox  \n",
       "2          Modern-Day Data Science  \n",
       "3  Web-Based Front-End Development  "
      ],
      "text/html": [
       "<div>\n",
       "<style scoped>\n",
       "    .dataframe tbody tr th:only-of-type {\n",
       "        vertical-align: middle;\n",
       "    }\n",
       "\n",
       "    .dataframe tbody tr th {\n",
       "        vertical-align: top;\n",
       "    }\n",
       "\n",
       "    .dataframe thead th {\n",
       "        text-align: right;\n",
       "    }\n",
       "</style>\n",
       "<table border=\"1\" class=\"dataframe\">\n",
       "  <thead>\n",
       "    <tr style=\"text-align: right;\">\n",
       "      <th></th>\n",
       "      <th>content_id</th>\n",
       "      <th>original_text</th>\n",
       "      <th>converted_text</th>\n",
       "    </tr>\n",
       "  </thead>\n",
       "  <tbody>\n",
       "    <tr>\n",
       "      <th>0</th>\n",
       "      <td>1</td>\n",
       "      <td>hello world of SQL</td>\n",
       "      <td>Hello World Of Sql</td>\n",
       "    </tr>\n",
       "    <tr>\n",
       "      <th>1</th>\n",
       "      <td>2</td>\n",
       "      <td>the QUICK-brown fox</td>\n",
       "      <td>The Quick-Brown Fox</td>\n",
       "    </tr>\n",
       "    <tr>\n",
       "      <th>2</th>\n",
       "      <td>3</td>\n",
       "      <td>modern-day DATA science</td>\n",
       "      <td>Modern-Day Data Science</td>\n",
       "    </tr>\n",
       "    <tr>\n",
       "      <th>3</th>\n",
       "      <td>4</td>\n",
       "      <td>web-based FRONT-end development</td>\n",
       "      <td>Web-Based Front-End Development</td>\n",
       "    </tr>\n",
       "  </tbody>\n",
       "</table>\n",
       "</div>"
      ]
     },
     "metadata": {},
     "output_type": "display_data"
    }
   ],
   "execution_count": 6
  },
  {
   "metadata": {},
   "cell_type": "markdown",
   "source": "Reference: [1] https://leetcode.com/problems/first-letter-capitalization-ii/description/",
   "id": "8865f5d32045fb5e"
  }
 ],
 "metadata": {
  "kernelspec": {
   "display_name": "Python 3",
   "language": "python",
   "name": "python3"
  },
  "language_info": {
   "codemirror_mode": {
    "name": "ipython",
    "version": 2
   },
   "file_extension": ".py",
   "mimetype": "text/x-python",
   "name": "python",
   "nbconvert_exporter": "python",
   "pygments_lexer": "ipython2",
   "version": "2.7.6"
  }
 },
 "nbformat": 4,
 "nbformat_minor": 5
}
