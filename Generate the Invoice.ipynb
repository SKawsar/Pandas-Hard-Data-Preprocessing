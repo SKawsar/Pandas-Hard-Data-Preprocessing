{
 "cells": [
  {
   "cell_type": "code",
   "id": "initial_id",
   "metadata": {
    "collapsed": true,
    "ExecuteTime": {
     "end_time": "2025-02-25T22:49:30.800699Z",
     "start_time": "2025-02-25T22:49:30.772787Z"
    }
   },
   "source": [
    "import pandas as pd\n",
    "data = [[1, 100], [2, 200]]\n",
    "products = pd.DataFrame(data, columns=['product_id', 'price']).astype({'product_id':'Int64', 'price':'Int64'})\n",
    "display(products)\n",
    "data = [[1, 1, 2], [3, 2, 1], [2, 2, 3], [2, 1, 4], [4, 1, 10]]\n",
    "purchases = pd.DataFrame(data, columns=['invoice_id', 'product_id', 'quantity']).astype({'invoice_id':'Int64', 'product_id':'Int64', 'quantity':'Int64'})\n",
    "display(purchases)"
   ],
   "outputs": [
    {
     "data": {
      "text/plain": [
       "   product_id  price\n",
       "0           1    100\n",
       "1           2    200"
      ],
      "text/html": [
       "<div>\n",
       "<style scoped>\n",
       "    .dataframe tbody tr th:only-of-type {\n",
       "        vertical-align: middle;\n",
       "    }\n",
       "\n",
       "    .dataframe tbody tr th {\n",
       "        vertical-align: top;\n",
       "    }\n",
       "\n",
       "    .dataframe thead th {\n",
       "        text-align: right;\n",
       "    }\n",
       "</style>\n",
       "<table border=\"1\" class=\"dataframe\">\n",
       "  <thead>\n",
       "    <tr style=\"text-align: right;\">\n",
       "      <th></th>\n",
       "      <th>product_id</th>\n",
       "      <th>price</th>\n",
       "    </tr>\n",
       "  </thead>\n",
       "  <tbody>\n",
       "    <tr>\n",
       "      <th>0</th>\n",
       "      <td>1</td>\n",
       "      <td>100</td>\n",
       "    </tr>\n",
       "    <tr>\n",
       "      <th>1</th>\n",
       "      <td>2</td>\n",
       "      <td>200</td>\n",
       "    </tr>\n",
       "  </tbody>\n",
       "</table>\n",
       "</div>"
      ]
     },
     "metadata": {},
     "output_type": "display_data"
    },
    {
     "data": {
      "text/plain": [
       "   invoice_id  product_id  quantity\n",
       "0           1           1         2\n",
       "1           3           2         1\n",
       "2           2           2         3\n",
       "3           2           1         4\n",
       "4           4           1        10"
      ],
      "text/html": [
       "<div>\n",
       "<style scoped>\n",
       "    .dataframe tbody tr th:only-of-type {\n",
       "        vertical-align: middle;\n",
       "    }\n",
       "\n",
       "    .dataframe tbody tr th {\n",
       "        vertical-align: top;\n",
       "    }\n",
       "\n",
       "    .dataframe thead th {\n",
       "        text-align: right;\n",
       "    }\n",
       "</style>\n",
       "<table border=\"1\" class=\"dataframe\">\n",
       "  <thead>\n",
       "    <tr style=\"text-align: right;\">\n",
       "      <th></th>\n",
       "      <th>invoice_id</th>\n",
       "      <th>product_id</th>\n",
       "      <th>quantity</th>\n",
       "    </tr>\n",
       "  </thead>\n",
       "  <tbody>\n",
       "    <tr>\n",
       "      <th>0</th>\n",
       "      <td>1</td>\n",
       "      <td>1</td>\n",
       "      <td>2</td>\n",
       "    </tr>\n",
       "    <tr>\n",
       "      <th>1</th>\n",
       "      <td>3</td>\n",
       "      <td>2</td>\n",
       "      <td>1</td>\n",
       "    </tr>\n",
       "    <tr>\n",
       "      <th>2</th>\n",
       "      <td>2</td>\n",
       "      <td>2</td>\n",
       "      <td>3</td>\n",
       "    </tr>\n",
       "    <tr>\n",
       "      <th>3</th>\n",
       "      <td>2</td>\n",
       "      <td>1</td>\n",
       "      <td>4</td>\n",
       "    </tr>\n",
       "    <tr>\n",
       "      <th>4</th>\n",
       "      <td>4</td>\n",
       "      <td>1</td>\n",
       "      <td>10</td>\n",
       "    </tr>\n",
       "  </tbody>\n",
       "</table>\n",
       "</div>"
      ]
     },
     "metadata": {},
     "output_type": "display_data"
    }
   ],
   "execution_count": 18
  },
  {
   "metadata": {
    "ExecuteTime": {
     "end_time": "2025-02-25T22:49:30.857202Z",
     "start_time": "2025-02-25T22:49:30.816328Z"
    }
   },
   "cell_type": "code",
   "source": [
    "purchases = purchases.merge(products, how='left', on='product_id')\n",
    "purchases = purchases.rename(columns={\"price\": \"product_price\"})\n",
    "purchases[\"price\"] = purchases[\"product_price\"] * purchases[\"quantity\"]\n",
    "\n",
    "df = purchases.groupby(['invoice_id'])[[\"price\"]].sum().reset_index()\n",
    "df = df.sort_values(by=[\"price\", \"invoice_id\"], ascending=[False, True])\n",
    "\n",
    "highest_invoice = df[\"invoice_id\"].values[0]\n",
    "\n",
    "purchases = purchases[purchases[\"invoice_id\"] == highest_invoice]\n",
    "purchases = purchases.drop(columns=[\"invoice_id\", \"product_price\"])\n",
    "display(purchases)\n"
   ],
   "id": "bfdb166c990ea191",
   "outputs": [
    {
     "data": {
      "text/plain": [
       "   product_id  quantity  price\n",
       "2           2         3    600\n",
       "3           1         4    400"
      ],
      "text/html": [
       "<div>\n",
       "<style scoped>\n",
       "    .dataframe tbody tr th:only-of-type {\n",
       "        vertical-align: middle;\n",
       "    }\n",
       "\n",
       "    .dataframe tbody tr th {\n",
       "        vertical-align: top;\n",
       "    }\n",
       "\n",
       "    .dataframe thead th {\n",
       "        text-align: right;\n",
       "    }\n",
       "</style>\n",
       "<table border=\"1\" class=\"dataframe\">\n",
       "  <thead>\n",
       "    <tr style=\"text-align: right;\">\n",
       "      <th></th>\n",
       "      <th>product_id</th>\n",
       "      <th>quantity</th>\n",
       "      <th>price</th>\n",
       "    </tr>\n",
       "  </thead>\n",
       "  <tbody>\n",
       "    <tr>\n",
       "      <th>2</th>\n",
       "      <td>2</td>\n",
       "      <td>3</td>\n",
       "      <td>600</td>\n",
       "    </tr>\n",
       "    <tr>\n",
       "      <th>3</th>\n",
       "      <td>1</td>\n",
       "      <td>4</td>\n",
       "      <td>400</td>\n",
       "    </tr>\n",
       "  </tbody>\n",
       "</table>\n",
       "</div>"
      ]
     },
     "metadata": {},
     "output_type": "display_data"
    }
   ],
   "execution_count": 19
  },
  {
   "metadata": {
    "ExecuteTime": {
     "end_time": "2025-02-25T22:49:30.988339Z",
     "start_time": "2025-02-25T22:49:30.971108Z"
    }
   },
   "cell_type": "code",
   "source": "",
   "id": "1866bcf849d98edf",
   "outputs": [],
   "execution_count": null
  }
 ],
 "metadata": {
  "kernelspec": {
   "display_name": "Python 3",
   "language": "python",
   "name": "python3"
  },
  "language_info": {
   "codemirror_mode": {
    "name": "ipython",
    "version": 2
   },
   "file_extension": ".py",
   "mimetype": "text/x-python",
   "name": "python",
   "nbconvert_exporter": "python",
   "pygments_lexer": "ipython2",
   "version": "2.7.6"
  }
 },
 "nbformat": 4,
 "nbformat_minor": 5
}
