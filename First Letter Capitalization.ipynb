{
 "cells": [
  {
   "metadata": {},
   "cell_type": "markdown",
   "source": [
    "# First Letter Capitalization using Pandas\n",
    "In the world of data processing, text transformation is a common yet crucial task. Whether you're cleaning messy data or standardizing text for reports, applying consistent formatting can significantly enhance readability.\n",
    "\n",
    "One such transformation is converting text so that each word starts with an uppercase letter while keeping all other letters in lowercase—also known as Title Case Formatting.\n",
    "\n",
    "In this blog, we'll explore how to achieve this in Pandas using a simple approach. We'll take raw text from a database, apply the necessary transformations, and return a clean, formatted output. By the end, you'll have a clear understanding of how to handle text casing efficiently in Pandas.\n",
    "\n",
    "Let's dive in!\n",
    "\n",
    "**Table: user_content**\n",
    "\n",
    "| Column Name | Type    |\n",
    "| ------------|---------|\n",
    "| content_id  | int     |\n",
    "| content_text| varchar |\n",
    "\n",
    "content_id is the unique key for this table.\n",
    "Each row contains a unique ID and the corresponding text content.\n",
    "\n",
    "Write a solution to transform the text in the content_text column by applying the following rules:\n",
    "\n",
    "Convert the first letter of each word to uppercase\n",
    "Keep all other letters in lowercase\n",
    "Preserve all existing spaces\n",
    "Note: There will be no special character in content_text.\n",
    "\n",
    "Return the result table that includes both the original content_text and the modified text where each word starts with a capital letter.\n",
    "\n",
    "The result format is in the following example.\n",
    "\n",
    "**user_content table:**\n",
    "\n",
    "| content_id | content_text                      |\n",
    "|------------|-----------------------------------|\n",
    "| 1          | hello world of SQL                |\n",
    "| 2          | the QUICK brown fox               |\n",
    "| 3          | data science AND machine learning |\n",
    "| 4          | TOP rated programming BOOKS       |\n",
    "\n",
    "---\n",
    "\n",
    "### Output:\n",
    "\n",
    "| content_id | original_text                     | converted_text                    |\n",
    "|------------|-----------------------------------|-----------------------------------|\n",
    "| 1          | hello world of SQL                | Hello World Of Sql                |\n",
    "| 2          | the QUICK brown fox               | The Quick Brown Fox               |\n",
    "| 3          | data science AND machine learning | Data Science And Machine Learning |\n",
    "| 4          | TOP rated programming BOOKS       | Top Rated Programming Books       |\n",
    "\n",
    "---\n",
    "\n",
    "### Explanation:\n",
    "\n",
    "- **For content_id = 1:**\n",
    "  Each word's first letter is capitalized → `Hello World Of Sql`\n",
    "- **For content_id = 2:**\n",
    "  Original mixed-case text is transformed to title case → `The Quick Brown Fox`\n",
    "- **For content_id = 3:**\n",
    "  The word \"AND\" is converted to \"And\" → `Data Science And Machine Learning`\n",
    "- **For content_id = 4:**\n",
    "  Handles \"TOP rated\" correctly → `Top Rated`\n",
    "  Converts \"BOOKS\" from all caps to title case → `Books`\n"
   ],
   "id": "b1caa6f5be40a323"
  },
  {
   "metadata": {
    "collapsed": true,
    "ExecuteTime": {
     "end_time": "2025-03-14T17:20:14.074532Z",
     "start_time": "2025-03-14T17:20:13.422177Z"
    }
   },
   "cell_type": "code",
   "source": [
    "import pandas as pd\n",
    "\n",
    "data = [[1, 'hello world of SQL'],\n",
    "        [2, 'the QUICK brown fox'],\n",
    "        [3, 'data science AND machine learning'],\n",
    "        [4, 'TOP rated programming BOOKS']]\n",
    "\n",
    "user_content = pd.DataFrame(data, columns=['content_id', 'content_text']).astype({'content_id':'Int64', 'content_text': str})\n",
    "\n",
    "display(user_content)"
   ],
   "id": "initial_id",
   "outputs": [
    {
     "data": {
      "text/plain": [
       "   content_id                       content_text\n",
       "0           1                 hello world of SQL\n",
       "1           2                the QUICK brown fox\n",
       "2           3  data science AND machine learning\n",
       "3           4        TOP rated programming BOOKS"
      ],
      "text/html": [
       "<div>\n",
       "<style scoped>\n",
       "    .dataframe tbody tr th:only-of-type {\n",
       "        vertical-align: middle;\n",
       "    }\n",
       "\n",
       "    .dataframe tbody tr th {\n",
       "        vertical-align: top;\n",
       "    }\n",
       "\n",
       "    .dataframe thead th {\n",
       "        text-align: right;\n",
       "    }\n",
       "</style>\n",
       "<table border=\"1\" class=\"dataframe\">\n",
       "  <thead>\n",
       "    <tr style=\"text-align: right;\">\n",
       "      <th></th>\n",
       "      <th>content_id</th>\n",
       "      <th>content_text</th>\n",
       "    </tr>\n",
       "  </thead>\n",
       "  <tbody>\n",
       "    <tr>\n",
       "      <th>0</th>\n",
       "      <td>1</td>\n",
       "      <td>hello world of SQL</td>\n",
       "    </tr>\n",
       "    <tr>\n",
       "      <th>1</th>\n",
       "      <td>2</td>\n",
       "      <td>the QUICK brown fox</td>\n",
       "    </tr>\n",
       "    <tr>\n",
       "      <th>2</th>\n",
       "      <td>3</td>\n",
       "      <td>data science AND machine learning</td>\n",
       "    </tr>\n",
       "    <tr>\n",
       "      <th>3</th>\n",
       "      <td>4</td>\n",
       "      <td>TOP rated programming BOOKS</td>\n",
       "    </tr>\n",
       "  </tbody>\n",
       "</table>\n",
       "</div>"
      ]
     },
     "metadata": {},
     "output_type": "display_data"
    }
   ],
   "execution_count": 1
  },
  {
   "metadata": {},
   "cell_type": "markdown",
   "source": [
    "**Step 1. Renaming the Column**\n",
    "- The rename method is used to change the column name.\n",
    "- The column \"content_text\" is renamed to \"original_text\".\n",
    "- This ensures clarity by explicitly labeling the column as the original unmodified text."
   ],
   "id": "a3afaae750d48146"
  },
  {
   "metadata": {
    "ExecuteTime": {
     "end_time": "2025-03-14T17:20:14.093082Z",
     "start_time": "2025-03-14T17:20:14.074532Z"
    }
   },
   "cell_type": "code",
   "source": [
    "user_content = user_content.rename(columns={\"content_text\": \"original_text\"})\n",
    "display(user_content)"
   ],
   "id": "e1a71ccd3a106e9c",
   "outputs": [
    {
     "data": {
      "text/plain": [
       "   content_id                      original_text\n",
       "0           1                 hello world of SQL\n",
       "1           2                the QUICK brown fox\n",
       "2           3  data science AND machine learning\n",
       "3           4        TOP rated programming BOOKS"
      ],
      "text/html": [
       "<div>\n",
       "<style scoped>\n",
       "    .dataframe tbody tr th:only-of-type {\n",
       "        vertical-align: middle;\n",
       "    }\n",
       "\n",
       "    .dataframe tbody tr th {\n",
       "        vertical-align: top;\n",
       "    }\n",
       "\n",
       "    .dataframe thead th {\n",
       "        text-align: right;\n",
       "    }\n",
       "</style>\n",
       "<table border=\"1\" class=\"dataframe\">\n",
       "  <thead>\n",
       "    <tr style=\"text-align: right;\">\n",
       "      <th></th>\n",
       "      <th>content_id</th>\n",
       "      <th>original_text</th>\n",
       "    </tr>\n",
       "  </thead>\n",
       "  <tbody>\n",
       "    <tr>\n",
       "      <th>0</th>\n",
       "      <td>1</td>\n",
       "      <td>hello world of SQL</td>\n",
       "    </tr>\n",
       "    <tr>\n",
       "      <th>1</th>\n",
       "      <td>2</td>\n",
       "      <td>the QUICK brown fox</td>\n",
       "    </tr>\n",
       "    <tr>\n",
       "      <th>2</th>\n",
       "      <td>3</td>\n",
       "      <td>data science AND machine learning</td>\n",
       "    </tr>\n",
       "    <tr>\n",
       "      <th>3</th>\n",
       "      <td>4</td>\n",
       "      <td>TOP rated programming BOOKS</td>\n",
       "    </tr>\n",
       "  </tbody>\n",
       "</table>\n",
       "</div>"
      ]
     },
     "metadata": {},
     "output_type": "display_data"
    }
   ],
   "execution_count": 2
  },
  {
   "metadata": {},
   "cell_type": "markdown",
   "source": [
    "**Step 2. Applying Title Case Transformation**\n",
    "- A new column \"converted_text\" is created in the DataFrame.\n",
    "- The str.title() method is applied to the \"original_text\" column.\n",
    "- str.title() converts each word in the text to title case, meaning:\n",
    "- The first letter of each word becomes uppercase.\n",
    "- All other letters are converted to lowercase.\n",
    "- The transformed text is stored in the \"converted_text\" column."
   ],
   "id": "3c0952eaa2f3d0f3"
  },
  {
   "metadata": {
    "ExecuteTime": {
     "end_time": "2025-03-14T17:20:14.195640Z",
     "start_time": "2025-03-14T17:20:14.170594Z"
    }
   },
   "cell_type": "code",
   "source": [
    "user_content[\"converted_text\"] = user_content[\"original_text\"].str.title()\n",
    "display(user_content)"
   ],
   "id": "966a37b3f12a58f6",
   "outputs": [
    {
     "data": {
      "text/plain": [
       "   content_id                      original_text  \\\n",
       "0           1                 hello world of SQL   \n",
       "1           2                the QUICK brown fox   \n",
       "2           3  data science AND machine learning   \n",
       "3           4        TOP rated programming BOOKS   \n",
       "\n",
       "                      converted_text  \n",
       "0                 Hello World Of Sql  \n",
       "1                The Quick Brown Fox  \n",
       "2  Data Science And Machine Learning  \n",
       "3        Top Rated Programming Books  "
      ],
      "text/html": [
       "<div>\n",
       "<style scoped>\n",
       "    .dataframe tbody tr th:only-of-type {\n",
       "        vertical-align: middle;\n",
       "    }\n",
       "\n",
       "    .dataframe tbody tr th {\n",
       "        vertical-align: top;\n",
       "    }\n",
       "\n",
       "    .dataframe thead th {\n",
       "        text-align: right;\n",
       "    }\n",
       "</style>\n",
       "<table border=\"1\" class=\"dataframe\">\n",
       "  <thead>\n",
       "    <tr style=\"text-align: right;\">\n",
       "      <th></th>\n",
       "      <th>content_id</th>\n",
       "      <th>original_text</th>\n",
       "      <th>converted_text</th>\n",
       "    </tr>\n",
       "  </thead>\n",
       "  <tbody>\n",
       "    <tr>\n",
       "      <th>0</th>\n",
       "      <td>1</td>\n",
       "      <td>hello world of SQL</td>\n",
       "      <td>Hello World Of Sql</td>\n",
       "    </tr>\n",
       "    <tr>\n",
       "      <th>1</th>\n",
       "      <td>2</td>\n",
       "      <td>the QUICK brown fox</td>\n",
       "      <td>The Quick Brown Fox</td>\n",
       "    </tr>\n",
       "    <tr>\n",
       "      <th>2</th>\n",
       "      <td>3</td>\n",
       "      <td>data science AND machine learning</td>\n",
       "      <td>Data Science And Machine Learning</td>\n",
       "    </tr>\n",
       "    <tr>\n",
       "      <th>3</th>\n",
       "      <td>4</td>\n",
       "      <td>TOP rated programming BOOKS</td>\n",
       "      <td>Top Rated Programming Books</td>\n",
       "    </tr>\n",
       "  </tbody>\n",
       "</table>\n",
       "</div>"
      ]
     },
     "metadata": {},
     "output_type": "display_data"
    }
   ],
   "execution_count": 3
  },
  {
   "metadata": {},
   "cell_type": "markdown",
   "source": "Reference: [1] https://leetcode.com/problems/first-letter-capitalization/description/",
   "id": "f4ebb92c1fdf6484"
  }
 ],
 "metadata": {
  "kernelspec": {
   "display_name": "Python 3",
   "language": "python",
   "name": "python3"
  },
  "language_info": {
   "codemirror_mode": {
    "name": "ipython",
    "version": 2
   },
   "file_extension": ".py",
   "mimetype": "text/x-python",
   "name": "python",
   "nbconvert_exporter": "python",
   "pygments_lexer": "ipython2",
   "version": "2.7.6"
  }
 },
 "nbformat": 4,
 "nbformat_minor": 5
}
