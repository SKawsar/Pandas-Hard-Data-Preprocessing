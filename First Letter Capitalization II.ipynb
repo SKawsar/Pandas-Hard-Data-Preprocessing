{
 "cells": [
  {
   "cell_type": "code",
   "id": "initial_id",
   "metadata": {
    "collapsed": true,
    "ExecuteTime": {
     "end_time": "2025-03-13T21:05:57.108348Z",
     "start_time": "2025-03-13T21:05:57.088394Z"
    }
   },
   "source": [
    "import pandas as pd\n",
    "\n",
    "data = [[1, 'hello world of SQL'],\n",
    "        [2, 'the QUICK-brown fox'],\n",
    "        [3, 'modern-day DATA science'],\n",
    "        [4, 'web-based FRONT-end development']]\n",
    "\n",
    "user_content = pd.DataFrame(data,\n",
    "                            columns=['content_id',\n",
    "                                     'content_text']).astype(\n",
    "                            {'content_id':'Int64',\n",
    "                             'content_text': str})\n",
    "display(user_content)"
   ],
   "outputs": [
    {
     "data": {
      "text/plain": [
       "   content_id                     content_text\n",
       "0           1               hello world of SQL\n",
       "1           2              the QUICK-brown fox\n",
       "2           3          modern-day DATA science\n",
       "3           4  web-based FRONT-end development"
      ],
      "text/html": [
       "<div>\n",
       "<style scoped>\n",
       "    .dataframe tbody tr th:only-of-type {\n",
       "        vertical-align: middle;\n",
       "    }\n",
       "\n",
       "    .dataframe tbody tr th {\n",
       "        vertical-align: top;\n",
       "    }\n",
       "\n",
       "    .dataframe thead th {\n",
       "        text-align: right;\n",
       "    }\n",
       "</style>\n",
       "<table border=\"1\" class=\"dataframe\">\n",
       "  <thead>\n",
       "    <tr style=\"text-align: right;\">\n",
       "      <th></th>\n",
       "      <th>content_id</th>\n",
       "      <th>content_text</th>\n",
       "    </tr>\n",
       "  </thead>\n",
       "  <tbody>\n",
       "    <tr>\n",
       "      <th>0</th>\n",
       "      <td>1</td>\n",
       "      <td>hello world of SQL</td>\n",
       "    </tr>\n",
       "    <tr>\n",
       "      <th>1</th>\n",
       "      <td>2</td>\n",
       "      <td>the QUICK-brown fox</td>\n",
       "    </tr>\n",
       "    <tr>\n",
       "      <th>2</th>\n",
       "      <td>3</td>\n",
       "      <td>modern-day DATA science</td>\n",
       "    </tr>\n",
       "    <tr>\n",
       "      <th>3</th>\n",
       "      <td>4</td>\n",
       "      <td>web-based FRONT-end development</td>\n",
       "    </tr>\n",
       "  </tbody>\n",
       "</table>\n",
       "</div>"
      ]
     },
     "metadata": {},
     "output_type": "display_data"
    }
   ],
   "execution_count": 5
  },
  {
   "metadata": {
    "ExecuteTime": {
     "end_time": "2025-03-13T21:05:57.153399Z",
     "start_time": "2025-03-13T21:05:57.135271Z"
    }
   },
   "cell_type": "code",
   "source": [
    "user_content[\"converted_text\"] = user_content[\"content_text\"].apply(lambda s: s.title())\n",
    "user_content.rename(columns={\"content_text\":\"original_text\"}, inplace=True)\n",
    "display(user_content)"
   ],
   "id": "fb5ccf1f0fed7855",
   "outputs": [
    {
     "data": {
      "text/plain": [
       "   content_id                    original_text  \\\n",
       "0           1               hello world of SQL   \n",
       "1           2              the QUICK-brown fox   \n",
       "2           3          modern-day DATA science   \n",
       "3           4  web-based FRONT-end development   \n",
       "\n",
       "                    converted_text  \n",
       "0               Hello World Of Sql  \n",
       "1              The Quick-Brown Fox  \n",
       "2          Modern-Day Data Science  \n",
       "3  Web-Based Front-End Development  "
      ],
      "text/html": [
       "<div>\n",
       "<style scoped>\n",
       "    .dataframe tbody tr th:only-of-type {\n",
       "        vertical-align: middle;\n",
       "    }\n",
       "\n",
       "    .dataframe tbody tr th {\n",
       "        vertical-align: top;\n",
       "    }\n",
       "\n",
       "    .dataframe thead th {\n",
       "        text-align: right;\n",
       "    }\n",
       "</style>\n",
       "<table border=\"1\" class=\"dataframe\">\n",
       "  <thead>\n",
       "    <tr style=\"text-align: right;\">\n",
       "      <th></th>\n",
       "      <th>content_id</th>\n",
       "      <th>original_text</th>\n",
       "      <th>converted_text</th>\n",
       "    </tr>\n",
       "  </thead>\n",
       "  <tbody>\n",
       "    <tr>\n",
       "      <th>0</th>\n",
       "      <td>1</td>\n",
       "      <td>hello world of SQL</td>\n",
       "      <td>Hello World Of Sql</td>\n",
       "    </tr>\n",
       "    <tr>\n",
       "      <th>1</th>\n",
       "      <td>2</td>\n",
       "      <td>the QUICK-brown fox</td>\n",
       "      <td>The Quick-Brown Fox</td>\n",
       "    </tr>\n",
       "    <tr>\n",
       "      <th>2</th>\n",
       "      <td>3</td>\n",
       "      <td>modern-day DATA science</td>\n",
       "      <td>Modern-Day Data Science</td>\n",
       "    </tr>\n",
       "    <tr>\n",
       "      <th>3</th>\n",
       "      <td>4</td>\n",
       "      <td>web-based FRONT-end development</td>\n",
       "      <td>Web-Based Front-End Development</td>\n",
       "    </tr>\n",
       "  </tbody>\n",
       "</table>\n",
       "</div>"
      ]
     },
     "metadata": {},
     "output_type": "display_data"
    }
   ],
   "execution_count": 6
  }
 ],
 "metadata": {
  "kernelspec": {
   "display_name": "Python 3",
   "language": "python",
   "name": "python3"
  },
  "language_info": {
   "codemirror_mode": {
    "name": "ipython",
    "version": 2
   },
   "file_extension": ".py",
   "mimetype": "text/x-python",
   "name": "python",
   "nbconvert_exporter": "python",
   "pygments_lexer": "ipython2",
   "version": "2.7.6"
  }
 },
 "nbformat": 4,
 "nbformat_minor": 5
}
