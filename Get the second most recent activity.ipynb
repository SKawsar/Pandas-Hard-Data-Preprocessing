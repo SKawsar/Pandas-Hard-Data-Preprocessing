{
 "cells": [
  {
   "cell_type": "code",
   "execution_count": null,
   "id": "313391da",
   "metadata": {},
   "outputs": [],
   "source": []
  },
  {
   "cell_type": "code",
   "execution_count": 34,
   "id": "307d47f3",
   "metadata": {},
   "outputs": [
    {
     "data": {
      "text/html": [
       "<div>\n",
       "<style scoped>\n",
       "    .dataframe tbody tr th:only-of-type {\n",
       "        vertical-align: middle;\n",
       "    }\n",
       "\n",
       "    .dataframe tbody tr th {\n",
       "        vertical-align: top;\n",
       "    }\n",
       "\n",
       "    .dataframe thead th {\n",
       "        text-align: right;\n",
       "    }\n",
       "</style>\n",
       "<table border=\"1\" class=\"dataframe\">\n",
       "  <thead>\n",
       "    <tr style=\"text-align: right;\">\n",
       "      <th></th>\n",
       "      <th>username</th>\n",
       "      <th>activity</th>\n",
       "      <th>startDate</th>\n",
       "      <th>endDate</th>\n",
       "    </tr>\n",
       "  </thead>\n",
       "  <tbody>\n",
       "    <tr>\n",
       "      <th>0</th>\n",
       "      <td>Alice</td>\n",
       "      <td>Travel</td>\n",
       "      <td>2020-02-12</td>\n",
       "      <td>2020-02-20</td>\n",
       "    </tr>\n",
       "    <tr>\n",
       "      <th>1</th>\n",
       "      <td>Alice</td>\n",
       "      <td>Dancing</td>\n",
       "      <td>2020-02-21</td>\n",
       "      <td>2020-02-23</td>\n",
       "    </tr>\n",
       "    <tr>\n",
       "      <th>2</th>\n",
       "      <td>Alice</td>\n",
       "      <td>Travel</td>\n",
       "      <td>2020-02-24</td>\n",
       "      <td>2020-02-28</td>\n",
       "    </tr>\n",
       "    <tr>\n",
       "      <th>3</th>\n",
       "      <td>Bob</td>\n",
       "      <td>Travel</td>\n",
       "      <td>2020-02-11</td>\n",
       "      <td>2020-02-18</td>\n",
       "    </tr>\n",
       "  </tbody>\n",
       "</table>\n",
       "</div>"
      ],
      "text/plain": [
       "  username activity  startDate    endDate\n",
       "0    Alice   Travel 2020-02-12 2020-02-20\n",
       "1    Alice  Dancing 2020-02-21 2020-02-23\n",
       "2    Alice   Travel 2020-02-24 2020-02-28\n",
       "3      Bob   Travel 2020-02-11 2020-02-18"
      ]
     },
     "metadata": {},
     "output_type": "display_data"
    }
   ],
   "source": [
    "import pandas as pd\n",
    "\n",
    "data = [['Alice', 'Travel', '2020-02-12', '2020-02-20'], \n",
    "        ['Alice', 'Dancing', '2020-02-21', '2020-02-23'], \n",
    "        ['Alice', 'Travel', '2020-02-24', '2020-02-28'], \n",
    "        ['Bob', 'Travel', '2020-02-11', '2020-02-18']]\n",
    "user_activity = pd.DataFrame(data, \n",
    "                             columns=['username', \n",
    "                                      'activity', \n",
    "                                      'startDate', \n",
    "                                      'endDate']).astype({'username':'object', \n",
    "                                                          'activity':'object', \n",
    "                                                          'startDate':'datetime64[ns]', \n",
    "                                                          'endDate':'datetime64[ns]'})\n",
    "\n",
    "display(user_activity)"
   ]
  },
  {
   "cell_type": "code",
   "execution_count": 35,
   "id": "1f5ab7a7",
   "metadata": {},
   "outputs": [
    {
     "data": {
      "text/html": [
       "<div>\n",
       "<style scoped>\n",
       "    .dataframe tbody tr th:only-of-type {\n",
       "        vertical-align: middle;\n",
       "    }\n",
       "\n",
       "    .dataframe tbody tr th {\n",
       "        vertical-align: top;\n",
       "    }\n",
       "\n",
       "    .dataframe thead th {\n",
       "        text-align: right;\n",
       "    }\n",
       "</style>\n",
       "<table border=\"1\" class=\"dataframe\">\n",
       "  <thead>\n",
       "    <tr style=\"text-align: right;\">\n",
       "      <th></th>\n",
       "      <th>username</th>\n",
       "      <th>activity</th>\n",
       "      <th>startDate</th>\n",
       "      <th>endDate</th>\n",
       "      <th>username_count</th>\n",
       "      <th>rank</th>\n",
       "    </tr>\n",
       "  </thead>\n",
       "  <tbody>\n",
       "    <tr>\n",
       "      <th>0</th>\n",
       "      <td>Alice</td>\n",
       "      <td>Travel</td>\n",
       "      <td>2020-02-12</td>\n",
       "      <td>2020-02-20</td>\n",
       "      <td>3</td>\n",
       "      <td>3.0</td>\n",
       "    </tr>\n",
       "    <tr>\n",
       "      <th>1</th>\n",
       "      <td>Alice</td>\n",
       "      <td>Dancing</td>\n",
       "      <td>2020-02-21</td>\n",
       "      <td>2020-02-23</td>\n",
       "      <td>3</td>\n",
       "      <td>2.0</td>\n",
       "    </tr>\n",
       "    <tr>\n",
       "      <th>2</th>\n",
       "      <td>Alice</td>\n",
       "      <td>Travel</td>\n",
       "      <td>2020-02-24</td>\n",
       "      <td>2020-02-28</td>\n",
       "      <td>3</td>\n",
       "      <td>1.0</td>\n",
       "    </tr>\n",
       "    <tr>\n",
       "      <th>3</th>\n",
       "      <td>Bob</td>\n",
       "      <td>Travel</td>\n",
       "      <td>2020-02-11</td>\n",
       "      <td>2020-02-18</td>\n",
       "      <td>1</td>\n",
       "      <td>1.0</td>\n",
       "    </tr>\n",
       "  </tbody>\n",
       "</table>\n",
       "</div>"
      ],
      "text/plain": [
       "  username activity  startDate    endDate  username_count  rank\n",
       "0    Alice   Travel 2020-02-12 2020-02-20               3   3.0\n",
       "1    Alice  Dancing 2020-02-21 2020-02-23               3   2.0\n",
       "2    Alice   Travel 2020-02-24 2020-02-28               3   1.0\n",
       "3      Bob   Travel 2020-02-11 2020-02-18               1   1.0"
      ]
     },
     "metadata": {},
     "output_type": "display_data"
    }
   ],
   "source": [
    "user_activity[\"username_count\"] = user_activity.groupby([\"username\"])[\n",
    "                                                         \"startDate\"].transform(\"count\")\n",
    "\n",
    "user_activity[\"rank\"] = user_activity.groupby([\"username\"])[\n",
    "                                               \"startDate\"].rank(method=\"dense\",\n",
    "                                                                 ascending=False)\n",
    "\n",
    "display(user_activity)"
   ]
  },
  {
   "cell_type": "code",
   "execution_count": null,
   "id": "bebac04e",
   "metadata": {},
   "outputs": [],
   "source": []
  },
  {
   "cell_type": "code",
   "execution_count": 36,
   "id": "82431423",
   "metadata": {},
   "outputs": [
    {
     "data": {
      "text/html": [
       "<div>\n",
       "<style scoped>\n",
       "    .dataframe tbody tr th:only-of-type {\n",
       "        vertical-align: middle;\n",
       "    }\n",
       "\n",
       "    .dataframe tbody tr th {\n",
       "        vertical-align: top;\n",
       "    }\n",
       "\n",
       "    .dataframe thead th {\n",
       "        text-align: right;\n",
       "    }\n",
       "</style>\n",
       "<table border=\"1\" class=\"dataframe\">\n",
       "  <thead>\n",
       "    <tr style=\"text-align: right;\">\n",
       "      <th></th>\n",
       "      <th>username</th>\n",
       "      <th>activity</th>\n",
       "      <th>startDate</th>\n",
       "      <th>endDate</th>\n",
       "      <th>username_count</th>\n",
       "      <th>rank</th>\n",
       "    </tr>\n",
       "  </thead>\n",
       "  <tbody>\n",
       "    <tr>\n",
       "      <th>1</th>\n",
       "      <td>Alice</td>\n",
       "      <td>Dancing</td>\n",
       "      <td>2020-02-21</td>\n",
       "      <td>2020-02-23</td>\n",
       "      <td>3</td>\n",
       "      <td>2.0</td>\n",
       "    </tr>\n",
       "    <tr>\n",
       "      <th>3</th>\n",
       "      <td>Bob</td>\n",
       "      <td>Travel</td>\n",
       "      <td>2020-02-11</td>\n",
       "      <td>2020-02-18</td>\n",
       "      <td>1</td>\n",
       "      <td>1.0</td>\n",
       "    </tr>\n",
       "  </tbody>\n",
       "</table>\n",
       "</div>"
      ],
      "text/plain": [
       "  username activity  startDate    endDate  username_count  rank\n",
       "1    Alice  Dancing 2020-02-21 2020-02-23               3   2.0\n",
       "3      Bob   Travel 2020-02-11 2020-02-18               1   1.0"
      ]
     },
     "metadata": {},
     "output_type": "display_data"
    }
   ],
   "source": [
    "condition_1 = (user_activity[\"username_count\"]==1)\n",
    "condition_2 = ((user_activity[\"username_count\"]>1) & (user_activity[\"rank\"]==2))\n",
    "user_activity = user_activity[condition_1 | condition_2]\n",
    "display(user_activity)"
   ]
  },
  {
   "cell_type": "code",
   "execution_count": null,
   "id": "a5299462",
   "metadata": {},
   "outputs": [],
   "source": []
  },
  {
   "cell_type": "code",
   "execution_count": 37,
   "id": "69d9dbd4",
   "metadata": {},
   "outputs": [
    {
     "data": {
      "text/html": [
       "<div>\n",
       "<style scoped>\n",
       "    .dataframe tbody tr th:only-of-type {\n",
       "        vertical-align: middle;\n",
       "    }\n",
       "\n",
       "    .dataframe tbody tr th {\n",
       "        vertical-align: top;\n",
       "    }\n",
       "\n",
       "    .dataframe thead th {\n",
       "        text-align: right;\n",
       "    }\n",
       "</style>\n",
       "<table border=\"1\" class=\"dataframe\">\n",
       "  <thead>\n",
       "    <tr style=\"text-align: right;\">\n",
       "      <th></th>\n",
       "      <th>username</th>\n",
       "      <th>activity</th>\n",
       "      <th>startDate</th>\n",
       "      <th>endDate</th>\n",
       "    </tr>\n",
       "  </thead>\n",
       "  <tbody>\n",
       "    <tr>\n",
       "      <th>1</th>\n",
       "      <td>Alice</td>\n",
       "      <td>Dancing</td>\n",
       "      <td>2020-02-21</td>\n",
       "      <td>2020-02-23</td>\n",
       "    </tr>\n",
       "    <tr>\n",
       "      <th>3</th>\n",
       "      <td>Bob</td>\n",
       "      <td>Travel</td>\n",
       "      <td>2020-02-11</td>\n",
       "      <td>2020-02-18</td>\n",
       "    </tr>\n",
       "  </tbody>\n",
       "</table>\n",
       "</div>"
      ],
      "text/plain": [
       "  username activity  startDate    endDate\n",
       "1    Alice  Dancing 2020-02-21 2020-02-23\n",
       "3      Bob   Travel 2020-02-11 2020-02-18"
      ]
     },
     "metadata": {},
     "output_type": "display_data"
    }
   ],
   "source": [
    "user_activity = user_activity.drop(columns=['username_count', 'rank'])\n",
    "display(user_activity)"
   ]
  },
  {
   "cell_type": "markdown",
   "id": "16d0a16a",
   "metadata": {},
   "source": [
    "References: [1] https://leetcode.com/problems/get-the-second-most-recent-activity/description/?lang=pythondata"
   ]
  },
  {
   "cell_type": "code",
   "execution_count": null,
   "id": "513f9006",
   "metadata": {},
   "outputs": [],
   "source": [
    "# user_activity[\"username_count\"] = user_activity.groupby([\"username\"])[\n",
    "#                                                          \"startDate\"].transform(\"count\")\n",
    "\n",
    "# user_activity[\"rank\"] = user_activity.groupby([\"username\"])[\n",
    "#                                                \"startDate\"].rank(method=\"dense\",\n",
    "#                                                                  ascending=False)\n",
    "\n",
    "# condition_1 = (user_activity[\"username_count\"]==1)\n",
    "# condition_2 = ((user_activity[\"username_count\"]>1) & (user_activity[\"rank\"]==2))\n",
    "# user_activity = user_activity[condition_1 | condition_2]\n",
    "# user_activity = user_activity.drop(columns=['username_count', 'rank'])"
   ]
  }
 ],
 "metadata": {
  "kernelspec": {
   "display_name": "Python 3 (ipykernel)",
   "language": "python",
   "name": "python3"
  },
  "language_info": {
   "codemirror_mode": {
    "name": "ipython",
    "version": 3
   },
   "file_extension": ".py",
   "mimetype": "text/x-python",
   "name": "python",
   "nbconvert_exporter": "python",
   "pygments_lexer": "ipython3",
   "version": "3.11.4"
  }
 },
 "nbformat": 4,
 "nbformat_minor": 5
}
