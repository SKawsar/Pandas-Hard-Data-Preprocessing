{
 "cells": [
  {
   "cell_type": "markdown",
   "id": "053cfc5d-1431-4d7b-a957-3effcecfe7a7",
   "metadata": {
    "tags": []
   },
   "source": [
    "# Calculating the Median from a Frequency Distribution Using Pandas\n",
    "\n",
    "In data analysis, the median is a crucial statistical measure that represents the middle value of a dataset, effectively separating the higher half from the lower half. When dealing with frequency distributions, calculating the median requires decompressing the data based on the given frequencies. In this task, we'll determine the median of all numbers in a database by decompressing a frequency table using Python's Pandas library. The final median will be rounded to one decimal point.\n",
    "\n",
    "## Problem Statement\n",
    "\n",
    "You are provided with a **Numbers** table that contains numbers and their corresponding frequencies. Your goal is to calculate the median of all numbers after decompressing the table.\n",
    "\n",
    "### Numbers Table\n",
    "\n",
    "| Column Name | Type |\n",
    "|-------------|------|\n",
    "| num         | int  |\n",
    "| frequency   | int  |\n",
    "\n",
    "- **num**: Primary key (unique identifier for each number).\n",
    "- **frequency**: The number of times `num` appears in the dataset.\n",
    "\n",
    "Each row in this table indicates how many times a particular number (`num`) occurs in the database.\n",
    "\n",
    "### Objective\n",
    "\n",
    "Write a solution to report the **median** of all the numbers in the database after decompressing the Numbers table. The median should be rounded to one decimal point.\n",
    "\n",
    "### Definition of Median\n",
    "\n",
    "The median is the value that separates the higher half from the lower half of a data sample. For datasets with an odd number of observations, the median is the middle number. For datasets with an even number of observations, the median is the average of the two middle numbers.\n",
    "\n",
    "### Output Format\n",
    "\n",
    "Return the result in a table with a single column named `median`.\n",
    "\n",
    "| Column Name | Type  |\n",
    "|-------------|-------|\n",
    "| median      | float |\n",
    "\n",
    "## Example\n",
    "\n",
    "### Input\n",
    "\n",
    "**Numbers Table:**\n",
    "\n",
    "| num | frequency |\n",
    "|-----|-----------|\n",
    "| 0   | 7         |\n",
    "| 1   | 1         |\n",
    "| 2   | 3         |\n",
    "| 3   | 1         |\n",
    "\n",
    "### Output\n",
    "\n",
    "| median |\n",
    "|--------|\n",
    "| 0.0    |\n",
    "\n",
    "### Explanation\n",
    "\n",
    "If we decompress the Numbers table, we will get [0, 0, 0, 0, 0, 0, 0, 1, 2, 2, 2, 3], so the median is (0 + 0) / 2 = 0.\n"
   ]
  },
  {
   "cell_type": "code",
   "execution_count": 3,
   "id": "1e892830-2e2e-45eb-9e3b-316980700863",
   "metadata": {
    "tags": []
   },
   "outputs": [
    {
     "data": {
      "text/html": [
       "<div>\n",
       "<style scoped>\n",
       "    .dataframe tbody tr th:only-of-type {\n",
       "        vertical-align: middle;\n",
       "    }\n",
       "\n",
       "    .dataframe tbody tr th {\n",
       "        vertical-align: top;\n",
       "    }\n",
       "\n",
       "    .dataframe thead th {\n",
       "        text-align: right;\n",
       "    }\n",
       "</style>\n",
       "<table border=\"1\" class=\"dataframe\">\n",
       "  <thead>\n",
       "    <tr style=\"text-align: right;\">\n",
       "      <th></th>\n",
       "      <th>num</th>\n",
       "      <th>frequency</th>\n",
       "    </tr>\n",
       "  </thead>\n",
       "  <tbody>\n",
       "    <tr>\n",
       "      <th>0</th>\n",
       "      <td>0</td>\n",
       "      <td>7</td>\n",
       "    </tr>\n",
       "    <tr>\n",
       "      <th>1</th>\n",
       "      <td>1</td>\n",
       "      <td>1</td>\n",
       "    </tr>\n",
       "    <tr>\n",
       "      <th>2</th>\n",
       "      <td>2</td>\n",
       "      <td>3</td>\n",
       "    </tr>\n",
       "    <tr>\n",
       "      <th>3</th>\n",
       "      <td>3</td>\n",
       "      <td>1</td>\n",
       "    </tr>\n",
       "  </tbody>\n",
       "</table>\n",
       "</div>"
      ],
      "text/plain": [
       "   num  frequency\n",
       "0    0          7\n",
       "1    1          1\n",
       "2    2          3\n",
       "3    3          1"
      ]
     },
     "metadata": {},
     "output_type": "display_data"
    }
   ],
   "source": [
    "import pandas as pd\n",
    "\n",
    "data = [[0, 7], \n",
    "        [1, 1], \n",
    "        [2, 3], \n",
    "        [3, 1]]\n",
    "numbers = pd.DataFrame(data, \n",
    "                       columns=['num', \n",
    "                                'frequency']).astype({'num':'Int64', \n",
    "                                                      'frequency':'Int64'})\n",
    "\n",
    "display(numbers)"
   ]
  },
  {
   "cell_type": "markdown",
   "id": "26700744-c5f4-43ad-abe7-882afdbfc3be",
   "metadata": {},
   "source": [
    "**Step 1. Decompressing the Numbers Table**\n",
    "\n",
    "- numbers['num']: Selects the num column from the numbers DataFrame.\n",
    "- .repeat(numbers['frequency']): Repeats each number in the num column according to its corresponding frequency.\n",
    "- .to_frame(): Converts the resulting Series into a DataFrame."
   ]
  },
  {
   "cell_type": "code",
   "execution_count": 5,
   "id": "b4ea170a-7975-4e3a-a1c8-30a822e6a53d",
   "metadata": {
    "tags": []
   },
   "outputs": [
    {
     "data": {
      "text/html": [
       "<div>\n",
       "<style scoped>\n",
       "    .dataframe tbody tr th:only-of-type {\n",
       "        vertical-align: middle;\n",
       "    }\n",
       "\n",
       "    .dataframe tbody tr th {\n",
       "        vertical-align: top;\n",
       "    }\n",
       "\n",
       "    .dataframe thead th {\n",
       "        text-align: right;\n",
       "    }\n",
       "</style>\n",
       "<table border=\"1\" class=\"dataframe\">\n",
       "  <thead>\n",
       "    <tr style=\"text-align: right;\">\n",
       "      <th></th>\n",
       "      <th>num</th>\n",
       "    </tr>\n",
       "  </thead>\n",
       "  <tbody>\n",
       "    <tr>\n",
       "      <th>0</th>\n",
       "      <td>0</td>\n",
       "    </tr>\n",
       "    <tr>\n",
       "      <th>0</th>\n",
       "      <td>0</td>\n",
       "    </tr>\n",
       "    <tr>\n",
       "      <th>0</th>\n",
       "      <td>0</td>\n",
       "    </tr>\n",
       "    <tr>\n",
       "      <th>0</th>\n",
       "      <td>0</td>\n",
       "    </tr>\n",
       "    <tr>\n",
       "      <th>0</th>\n",
       "      <td>0</td>\n",
       "    </tr>\n",
       "    <tr>\n",
       "      <th>0</th>\n",
       "      <td>0</td>\n",
       "    </tr>\n",
       "    <tr>\n",
       "      <th>0</th>\n",
       "      <td>0</td>\n",
       "    </tr>\n",
       "    <tr>\n",
       "      <th>1</th>\n",
       "      <td>1</td>\n",
       "    </tr>\n",
       "    <tr>\n",
       "      <th>2</th>\n",
       "      <td>2</td>\n",
       "    </tr>\n",
       "    <tr>\n",
       "      <th>2</th>\n",
       "      <td>2</td>\n",
       "    </tr>\n",
       "    <tr>\n",
       "      <th>2</th>\n",
       "      <td>2</td>\n",
       "    </tr>\n",
       "    <tr>\n",
       "      <th>3</th>\n",
       "      <td>3</td>\n",
       "    </tr>\n",
       "  </tbody>\n",
       "</table>\n",
       "</div>"
      ],
      "text/plain": [
       "   num\n",
       "0    0\n",
       "0    0\n",
       "0    0\n",
       "0    0\n",
       "0    0\n",
       "0    0\n",
       "0    0\n",
       "1    1\n",
       "2    2\n",
       "2    2\n",
       "2    2\n",
       "3    3"
      ]
     },
     "metadata": {},
     "output_type": "display_data"
    }
   ],
   "source": [
    "df = numbers['num'].repeat(numbers['frequency']).to_frame()\n",
    "\n",
    "display(df)"
   ]
  },
  {
   "cell_type": "markdown",
   "id": "73f4e294-b4dd-4f0c-96c9-8d94701add7f",
   "metadata": {},
   "source": [
    "**Step 2. Calculating the Median**\n",
    "\n",
    "- .median(): Computes the median of the num column in the DataFrame.\n",
    "- .to_frame('median'): Converts the resulting median value into a DataFrame with the column name median.\n",
    "- .round(1): Rounds the median value to one decimal place."
   ]
  },
  {
   "cell_type": "code",
   "execution_count": 7,
   "id": "0a3b0d3f-533f-4d2c-8070-b4177d4f37f9",
   "metadata": {
    "tags": []
   },
   "outputs": [
    {
     "data": {
      "text/html": [
       "<div>\n",
       "<style scoped>\n",
       "    .dataframe tbody tr th:only-of-type {\n",
       "        vertical-align: middle;\n",
       "    }\n",
       "\n",
       "    .dataframe tbody tr th {\n",
       "        vertical-align: top;\n",
       "    }\n",
       "\n",
       "    .dataframe thead th {\n",
       "        text-align: right;\n",
       "    }\n",
       "</style>\n",
       "<table border=\"1\" class=\"dataframe\">\n",
       "  <thead>\n",
       "    <tr style=\"text-align: right;\">\n",
       "      <th></th>\n",
       "      <th>median</th>\n",
       "    </tr>\n",
       "  </thead>\n",
       "  <tbody>\n",
       "    <tr>\n",
       "      <th>num</th>\n",
       "      <td>0.0</td>\n",
       "    </tr>\n",
       "  </tbody>\n",
       "</table>\n",
       "</div>"
      ],
      "text/plain": [
       "     median\n",
       "num     0.0"
      ]
     },
     "metadata": {},
     "output_type": "display_data"
    }
   ],
   "source": [
    "df = df.median().to_frame('median').round(1)\n",
    "\n",
    "display(df)"
   ]
  },
  {
   "cell_type": "markdown",
   "id": "59e5c371-4ec3-43de-aa6b-ae326aeecb29",
   "metadata": {},
   "source": [
    "References:\n",
    "[1] https://leetcode.com/problems/find-median-given-frequency-of-numbers/"
   ]
  }
 ],
 "metadata": {
  "kernelspec": {
   "display_name": "Python 3 (ipykernel)",
   "language": "python",
   "name": "python3"
  },
  "language_info": {
   "codemirror_mode": {
    "name": "ipython",
    "version": 3
   },
   "file_extension": ".py",
   "mimetype": "text/x-python",
   "name": "python",
   "nbconvert_exporter": "python",
   "pygments_lexer": "ipython3",
   "version": "3.11.4"
  }
 },
 "nbformat": 4,
 "nbformat_minor": 5
}
