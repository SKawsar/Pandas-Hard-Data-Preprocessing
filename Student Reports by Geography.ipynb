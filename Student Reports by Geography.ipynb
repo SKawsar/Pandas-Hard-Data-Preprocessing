{
 "cells": [
  {
   "cell_type": "markdown",
   "id": "c6daeb9f-dc6c-4d4e-b8cf-44d65c9d1fb0",
   "metadata": {},
   "source": [
    "# Pivoting Student Data by Continent Using Pandas\n",
    "\n",
    "Analyzing student distributions across different continents can provide valuable insights for educational institutions. By organizing student names under their respective continents, schools can better understand demographic trends, allocate resources effectively, and tailor programs to meet diverse needs. In this tutorial, we'll explore how to pivot student data by continent using Python's Pandas library.\n",
    "\n",
    "## Problem Statement\n",
    "\n",
    "You are provided with a **Student** table that contains information about students and the continents they originate from. The goal is to pivot the `continent` column so that each continent becomes a separate column header, and the student names are listed underneath their corresponding continent. The student names within each continent should be sorted alphabetically.\n",
    "\n",
    "### Table Schemas\n",
    "\n",
    "**Student Table**\n",
    "\n",
    "| Column Name | Type    |\n",
    "|-------------|---------|\n",
    "| name        | str     |\n",
    "| continent   | str     |\n",
    "\n",
    "- **Primary Key**: None specified. The table may contain duplicate rows.\n",
    "- **Description**: Each row represents a student, indicating their name and the continent they belong to.\n",
    "\n",
    "## Objective\n",
    "A school has students from Asia, Europe, and America.\n",
    "\n",
    "Write a solution to pivot the continent column in the Student table so that each name is sorted alphabetically and displayed underneath its corresponding continent. The output headers should be America, Asia, and Europe, respectively.\n",
    "\n",
    "The test cases are generated so that the student number from America is not less than either Asia or Europe.\n",
    "\n",
    "The result format is in the following example.\n",
    "\n",
    "## Example\n",
    "\n",
    "### Input\n",
    "\n",
    "**Student Table:**\n",
    "\n",
    "| name   | continent |\n",
    "|--------|-----------|\n",
    "| Jane   | America   |\n",
    "| Pascal | Europe    |\n",
    "| Xi     | Asia      |\n",
    "| Jack   | America   |\n",
    "\n",
    "### Output\n",
    "\n",
    "| America | Asia | Europe |\n",
    "|---------|------|--------|\n",
    "| Jack    | Xi   | Pascal |\n",
    "| Jane    | null | null   |\n",
    "\n",
    "### Explanation\n",
    "\n",
    "- **America**:\n",
    "  - Students: `Jack`, `Jane` (sorted alphabetically).\n",
    "- **Asia**:\n",
    "  - Student: `Xi`.\n",
    "- **Europe**:\n",
    "  - Student: `Pascal`.\n",
    "\n",
    "Since there are more students in America than in Asia or Europe, the additional cells under Asia and Europe are filled with `null`.\n"
   ]
  },
  {
   "cell_type": "code",
   "execution_count": 3,
   "id": "7d0ca1ce-c04e-44b9-b61e-058f2a13381f",
   "metadata": {
    "tags": []
   },
   "outputs": [
    {
     "data": {
      "text/html": [
       "<div>\n",
       "<style scoped>\n",
       "    .dataframe tbody tr th:only-of-type {\n",
       "        vertical-align: middle;\n",
       "    }\n",
       "\n",
       "    .dataframe tbody tr th {\n",
       "        vertical-align: top;\n",
       "    }\n",
       "\n",
       "    .dataframe thead th {\n",
       "        text-align: right;\n",
       "    }\n",
       "</style>\n",
       "<table border=\"1\" class=\"dataframe\">\n",
       "  <thead>\n",
       "    <tr style=\"text-align: right;\">\n",
       "      <th></th>\n",
       "      <th>name</th>\n",
       "      <th>continent</th>\n",
       "    </tr>\n",
       "  </thead>\n",
       "  <tbody>\n",
       "    <tr>\n",
       "      <th>0</th>\n",
       "      <td>Jane</td>\n",
       "      <td>America</td>\n",
       "    </tr>\n",
       "    <tr>\n",
       "      <th>1</th>\n",
       "      <td>Pascal</td>\n",
       "      <td>Europe</td>\n",
       "    </tr>\n",
       "    <tr>\n",
       "      <th>2</th>\n",
       "      <td>Xi</td>\n",
       "      <td>Asia</td>\n",
       "    </tr>\n",
       "    <tr>\n",
       "      <th>3</th>\n",
       "      <td>Jack</td>\n",
       "      <td>America</td>\n",
       "    </tr>\n",
       "  </tbody>\n",
       "</table>\n",
       "</div>"
      ],
      "text/plain": [
       "     name continent\n",
       "0    Jane   America\n",
       "1  Pascal    Europe\n",
       "2      Xi      Asia\n",
       "3    Jack   America"
      ]
     },
     "metadata": {},
     "output_type": "display_data"
    }
   ],
   "source": [
    "import pandas as pd\n",
    "\n",
    "data = [['Jane', 'America'], \n",
    "        ['Pascal', 'Europe'], \n",
    "        ['Xi', 'Asia'], \n",
    "        ['Jack', 'America']]\n",
    "student = pd.DataFrame(data, \n",
    "                       columns=['name', \n",
    "                                'continent']).astype({'name':'object', \n",
    "                                                      'continent':'object'})\n",
    "display(student)"
   ]
  },
  {
   "cell_type": "markdown",
   "id": "27ab32f4-5197-4a06-8a4b-c0c7d1e94e4c",
   "metadata": {},
   "source": [
    "**Step 1. Filtering and Organizing Students from America**\n",
    "- Filtering: student['continent'] == 'America': Creates a boolean mask that selects rows where the continent column is 'America'.\n",
    "- Filtering: student[...][['name']]: Applies the mask to the student DataFrame and selects only the name column.\n",
    "- Renaming: .rename(columns={'name': 'America'}): Renames the name column to 'America' to reflect the continent.\n",
    "- Sorting: .sort_values(by='America'): Sorts the DataFrame alphabetically based on the 'America' column.\n",
    "- Resetting Index: .reset_index(drop=True): Resets the index of the DataFrame to ensure a clean, continuous index starting from 0. The drop=True parameter ensures the old index is discarded."
   ]
  },
  {
   "cell_type": "code",
   "execution_count": 5,
   "id": "1b8e16fc-a078-49f7-9b80-a426139dc481",
   "metadata": {
    "tags": []
   },
   "outputs": [
    {
     "data": {
      "text/html": [
       "<div>\n",
       "<style scoped>\n",
       "    .dataframe tbody tr th:only-of-type {\n",
       "        vertical-align: middle;\n",
       "    }\n",
       "\n",
       "    .dataframe tbody tr th {\n",
       "        vertical-align: top;\n",
       "    }\n",
       "\n",
       "    .dataframe thead th {\n",
       "        text-align: right;\n",
       "    }\n",
       "</style>\n",
       "<table border=\"1\" class=\"dataframe\">\n",
       "  <thead>\n",
       "    <tr style=\"text-align: right;\">\n",
       "      <th></th>\n",
       "      <th>America</th>\n",
       "    </tr>\n",
       "  </thead>\n",
       "  <tbody>\n",
       "    <tr>\n",
       "      <th>0</th>\n",
       "      <td>Jack</td>\n",
       "    </tr>\n",
       "    <tr>\n",
       "      <th>1</th>\n",
       "      <td>Jane</td>\n",
       "    </tr>\n",
       "  </tbody>\n",
       "</table>\n",
       "</div>"
      ],
      "text/plain": [
       "  America\n",
       "0    Jack\n",
       "1    Jane"
      ]
     },
     "metadata": {},
     "output_type": "display_data"
    }
   ],
   "source": [
    "df_america = student[student['continent']=='America'][['name']]\n",
    "df_america = df_america.rename(columns={'name': 'America'}).sort_values(by='America').reset_index(drop=True)\n",
    "\n",
    "display(df_america)"
   ]
  },
  {
   "cell_type": "markdown",
   "id": "2d05953e-8c46-4654-94d1-20d317ec9bb4",
   "metadata": {},
   "source": [
    "**Step 2. Filtering and Organizing Students from Asia**\n",
    "- Filtering: Selects rows where continent is 'Asia' and extracts the name column.\n",
    "- Renaming: Renames the name column to 'Asia'.\n",
    "- Sorting: Sorts the names alphabetically within the 'Asia' column.\n",
    "- Resetting Index: Resets the index for alignment during concatenation."
   ]
  },
  {
   "cell_type": "code",
   "execution_count": 7,
   "id": "6e69ee8b-9b2d-4ac8-9adb-1632880e1f2f",
   "metadata": {
    "tags": []
   },
   "outputs": [
    {
     "data": {
      "text/html": [
       "<div>\n",
       "<style scoped>\n",
       "    .dataframe tbody tr th:only-of-type {\n",
       "        vertical-align: middle;\n",
       "    }\n",
       "\n",
       "    .dataframe tbody tr th {\n",
       "        vertical-align: top;\n",
       "    }\n",
       "\n",
       "    .dataframe thead th {\n",
       "        text-align: right;\n",
       "    }\n",
       "</style>\n",
       "<table border=\"1\" class=\"dataframe\">\n",
       "  <thead>\n",
       "    <tr style=\"text-align: right;\">\n",
       "      <th></th>\n",
       "      <th>Asia</th>\n",
       "    </tr>\n",
       "  </thead>\n",
       "  <tbody>\n",
       "    <tr>\n",
       "      <th>0</th>\n",
       "      <td>Xi</td>\n",
       "    </tr>\n",
       "  </tbody>\n",
       "</table>\n",
       "</div>"
      ],
      "text/plain": [
       "  Asia\n",
       "0   Xi"
      ]
     },
     "metadata": {},
     "output_type": "display_data"
    }
   ],
   "source": [
    "df_asia = student[student['continent']=='Asia'][['name']]\n",
    "df_asia = df_asia.rename(columns={'name': 'Asia'}).sort_values(by='Asia').reset_index(drop=True)\n",
    "\n",
    "display(df_asia)"
   ]
  },
  {
   "cell_type": "markdown",
   "id": "a2496034-c476-4f2c-9eea-cc3da5464ffe",
   "metadata": {},
   "source": [
    "**Step 3. Filtering and Organizing Students from Europe**\n",
    "- Filtering: Selects rows where continent is 'Europe' and extracts the name column.\n",
    "- Renaming: Renames the name column to 'Europe'.\n",
    "- Sorting: Sorts the names alphabetically within the 'Europe' column.\n",
    "- Resetting Index: Resets the index for alignment during concatenation."
   ]
  },
  {
   "cell_type": "code",
   "execution_count": 9,
   "id": "8e20a0e1-4b76-427a-be39-333fd0a6ea36",
   "metadata": {
    "tags": []
   },
   "outputs": [
    {
     "data": {
      "text/html": [
       "<div>\n",
       "<style scoped>\n",
       "    .dataframe tbody tr th:only-of-type {\n",
       "        vertical-align: middle;\n",
       "    }\n",
       "\n",
       "    .dataframe tbody tr th {\n",
       "        vertical-align: top;\n",
       "    }\n",
       "\n",
       "    .dataframe thead th {\n",
       "        text-align: right;\n",
       "    }\n",
       "</style>\n",
       "<table border=\"1\" class=\"dataframe\">\n",
       "  <thead>\n",
       "    <tr style=\"text-align: right;\">\n",
       "      <th></th>\n",
       "      <th>Europe</th>\n",
       "    </tr>\n",
       "  </thead>\n",
       "  <tbody>\n",
       "    <tr>\n",
       "      <th>0</th>\n",
       "      <td>Pascal</td>\n",
       "    </tr>\n",
       "  </tbody>\n",
       "</table>\n",
       "</div>"
      ],
      "text/plain": [
       "   Europe\n",
       "0  Pascal"
      ]
     },
     "metadata": {},
     "output_type": "display_data"
    }
   ],
   "source": [
    "df_europe = student[student['continent']=='Europe'][['name']]\n",
    "df_europe = df_europe.rename(columns={'name': 'Europe'}).sort_values(by='Europe').reset_index(drop=True)\n",
    "\n",
    "display(df_europe)"
   ]
  },
  {
   "cell_type": "markdown",
   "id": "eada4dbc-e821-4133-be5d-9a5a67ec2bd3",
   "metadata": {},
   "source": [
    "**Step 4. Concatenating the DataFrames**\n",
    "- [df_america, df_asia, df_europe]: The list of DataFrames to concatenate.\n",
    "- axis=1: Specifies that the concatenation should occur column-wise (i.e., side by side).\n",
    "- Result: Combines the three DataFrames into a single DataFrame result with columns 'America', 'Asia', and 'Europe'."
   ]
  },
  {
   "cell_type": "code",
   "execution_count": 11,
   "id": "35355174-67c1-4ce4-8907-257dfe9b8a51",
   "metadata": {
    "tags": []
   },
   "outputs": [
    {
     "data": {
      "text/html": [
       "<div>\n",
       "<style scoped>\n",
       "    .dataframe tbody tr th:only-of-type {\n",
       "        vertical-align: middle;\n",
       "    }\n",
       "\n",
       "    .dataframe tbody tr th {\n",
       "        vertical-align: top;\n",
       "    }\n",
       "\n",
       "    .dataframe thead th {\n",
       "        text-align: right;\n",
       "    }\n",
       "</style>\n",
       "<table border=\"1\" class=\"dataframe\">\n",
       "  <thead>\n",
       "    <tr style=\"text-align: right;\">\n",
       "      <th></th>\n",
       "      <th>America</th>\n",
       "      <th>Asia</th>\n",
       "      <th>Europe</th>\n",
       "    </tr>\n",
       "  </thead>\n",
       "  <tbody>\n",
       "    <tr>\n",
       "      <th>0</th>\n",
       "      <td>Jack</td>\n",
       "      <td>Xi</td>\n",
       "      <td>Pascal</td>\n",
       "    </tr>\n",
       "    <tr>\n",
       "      <th>1</th>\n",
       "      <td>Jane</td>\n",
       "      <td>NaN</td>\n",
       "      <td>NaN</td>\n",
       "    </tr>\n",
       "  </tbody>\n",
       "</table>\n",
       "</div>"
      ],
      "text/plain": [
       "  America Asia  Europe\n",
       "0    Jack   Xi  Pascal\n",
       "1    Jane  NaN     NaN"
      ]
     },
     "execution_count": 11,
     "metadata": {},
     "output_type": "execute_result"
    }
   ],
   "source": [
    "result = pd.concat([df_america, df_asia, df_europe], axis=1)\n",
    "result"
   ]
  },
  {
   "cell_type": "markdown",
   "id": "b19439cc-d1a8-4ba2-86b0-452d77c6dcc4",
   "metadata": {},
   "source": [
    "References: [1] https://leetcode.com/problems/students-report-by-geography/?lang=pythondata"
   ]
  }
 ],
 "metadata": {
  "kernelspec": {
   "display_name": "Python 3 (ipykernel)",
   "language": "python",
   "name": "python3"
  },
  "language_info": {
   "codemirror_mode": {
    "name": "ipython",
    "version": 3
   },
   "file_extension": ".py",
   "mimetype": "text/x-python",
   "name": "python",
   "nbconvert_exporter": "python",
   "pygments_lexer": "ipython3",
   "version": "3.11.4"
  }
 },
 "nbformat": 4,
 "nbformat_minor": 5
}
