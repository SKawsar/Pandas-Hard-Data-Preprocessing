{
 "cells": [
  {
   "cell_type": "code",
   "id": "initial_id",
   "metadata": {
    "collapsed": true,
    "ExecuteTime": {
     "end_time": "2025-03-13T20:30:22.545958Z",
     "start_time": "2025-03-13T20:30:22.520446Z"
    }
   },
   "source": [
    "import pandas as pd\n",
    "import numpy as np\n",
    "\n",
    "data = [[1, 2],\n",
    "        [2, 2],\n",
    "        [3, 1]]\n",
    "flights = pd.DataFrame(data, columns=['flight_id',\n",
    "                                      'capacity']).astype({'flight_id':'Int64',\n",
    "                                                           'capacity':'Int64'})\n",
    "display(flights)"
   ],
   "outputs": [
    {
     "data": {
      "text/plain": [
       "   flight_id  capacity\n",
       "0          1         2\n",
       "1          2         2\n",
       "2          3         1"
      ],
      "text/html": [
       "<div>\n",
       "<style scoped>\n",
       "    .dataframe tbody tr th:only-of-type {\n",
       "        vertical-align: middle;\n",
       "    }\n",
       "\n",
       "    .dataframe tbody tr th {\n",
       "        vertical-align: top;\n",
       "    }\n",
       "\n",
       "    .dataframe thead th {\n",
       "        text-align: right;\n",
       "    }\n",
       "</style>\n",
       "<table border=\"1\" class=\"dataframe\">\n",
       "  <thead>\n",
       "    <tr style=\"text-align: right;\">\n",
       "      <th></th>\n",
       "      <th>flight_id</th>\n",
       "      <th>capacity</th>\n",
       "    </tr>\n",
       "  </thead>\n",
       "  <tbody>\n",
       "    <tr>\n",
       "      <th>0</th>\n",
       "      <td>1</td>\n",
       "      <td>2</td>\n",
       "    </tr>\n",
       "    <tr>\n",
       "      <th>1</th>\n",
       "      <td>2</td>\n",
       "      <td>2</td>\n",
       "    </tr>\n",
       "    <tr>\n",
       "      <th>2</th>\n",
       "      <td>3</td>\n",
       "      <td>1</td>\n",
       "    </tr>\n",
       "  </tbody>\n",
       "</table>\n",
       "</div>"
      ]
     },
     "metadata": {},
     "output_type": "display_data"
    }
   ],
   "execution_count": 28
  },
  {
   "metadata": {
    "ExecuteTime": {
     "end_time": "2025-03-13T20:30:22.579334Z",
     "start_time": "2025-03-13T20:30:22.562988Z"
    }
   },
   "cell_type": "code",
   "source": [
    "data = [[101, 1, '2023-07-10 16:30:00'],\n",
    "        [102, 1, '2023-07-10 17:45:00'],\n",
    "        [103, 1, '2023-07-10 12:00:00'],\n",
    "        [104, 2, '2023-07-05 13:23:00'],\n",
    "        [105, 2, '2023-07-05 09:00:00'],\n",
    "        [106, 3, '2023-07-08 11:10:00'],\n",
    "        [107, 3, '2023-07-08 09:10:00']]\n",
    "passengers = pd.DataFrame(data, columns=['passenger_id',\n",
    "                                         'flight_id',\n",
    "                                         'booking_time']).astype({'passenger_id':'Int64',\n",
    "                                                                  'flight_id':'Int64',\n",
    "                                                                  'booking_time':'datetime64[ns]'})\n",
    "display(passengers)"
   ],
   "id": "807a8ce885c7aa27",
   "outputs": [
    {
     "data": {
      "text/plain": [
       "   passenger_id  flight_id        booking_time\n",
       "0           101          1 2023-07-10 16:30:00\n",
       "1           102          1 2023-07-10 17:45:00\n",
       "2           103          1 2023-07-10 12:00:00\n",
       "3           104          2 2023-07-05 13:23:00\n",
       "4           105          2 2023-07-05 09:00:00\n",
       "5           106          3 2023-07-08 11:10:00\n",
       "6           107          3 2023-07-08 09:10:00"
      ],
      "text/html": [
       "<div>\n",
       "<style scoped>\n",
       "    .dataframe tbody tr th:only-of-type {\n",
       "        vertical-align: middle;\n",
       "    }\n",
       "\n",
       "    .dataframe tbody tr th {\n",
       "        vertical-align: top;\n",
       "    }\n",
       "\n",
       "    .dataframe thead th {\n",
       "        text-align: right;\n",
       "    }\n",
       "</style>\n",
       "<table border=\"1\" class=\"dataframe\">\n",
       "  <thead>\n",
       "    <tr style=\"text-align: right;\">\n",
       "      <th></th>\n",
       "      <th>passenger_id</th>\n",
       "      <th>flight_id</th>\n",
       "      <th>booking_time</th>\n",
       "    </tr>\n",
       "  </thead>\n",
       "  <tbody>\n",
       "    <tr>\n",
       "      <th>0</th>\n",
       "      <td>101</td>\n",
       "      <td>1</td>\n",
       "      <td>2023-07-10 16:30:00</td>\n",
       "    </tr>\n",
       "    <tr>\n",
       "      <th>1</th>\n",
       "      <td>102</td>\n",
       "      <td>1</td>\n",
       "      <td>2023-07-10 17:45:00</td>\n",
       "    </tr>\n",
       "    <tr>\n",
       "      <th>2</th>\n",
       "      <td>103</td>\n",
       "      <td>1</td>\n",
       "      <td>2023-07-10 12:00:00</td>\n",
       "    </tr>\n",
       "    <tr>\n",
       "      <th>3</th>\n",
       "      <td>104</td>\n",
       "      <td>2</td>\n",
       "      <td>2023-07-05 13:23:00</td>\n",
       "    </tr>\n",
       "    <tr>\n",
       "      <th>4</th>\n",
       "      <td>105</td>\n",
       "      <td>2</td>\n",
       "      <td>2023-07-05 09:00:00</td>\n",
       "    </tr>\n",
       "    <tr>\n",
       "      <th>5</th>\n",
       "      <td>106</td>\n",
       "      <td>3</td>\n",
       "      <td>2023-07-08 11:10:00</td>\n",
       "    </tr>\n",
       "    <tr>\n",
       "      <th>6</th>\n",
       "      <td>107</td>\n",
       "      <td>3</td>\n",
       "      <td>2023-07-08 09:10:00</td>\n",
       "    </tr>\n",
       "  </tbody>\n",
       "</table>\n",
       "</div>"
      ]
     },
     "metadata": {},
     "output_type": "display_data"
    }
   ],
   "execution_count": 29
  },
  {
   "metadata": {
    "ExecuteTime": {
     "end_time": "2025-03-13T20:30:22.657005Z",
     "start_time": "2025-03-13T20:30:22.621384Z"
    }
   },
   "cell_type": "code",
   "source": [
    "passengers = passengers.merge(flights)\n",
    "passengers = passengers.sort_values(by=[\"flight_id\", \"booking_time\"])\n",
    "passengers[\"current_capacity\"] = passengers.groupby([\"flight_id\"])[\"passenger_id\"].transform(\"cumcount\")+1\n",
    "passengers[\"Status\"] = np.where(passengers[\"current_capacity\"]>passengers[\"capacity\"], \"Waitlist\", \"Confirmed\")\n",
    "passengers = passengers.sort_values(by=[\"passenger_id\"])\n",
    "passengers = passengers[[\"passenger_id\", \"Status\"]]\n",
    "display(passengers)"
   ],
   "id": "4f35e012e20253cc",
   "outputs": [
    {
     "data": {
      "text/plain": [
       "   passenger_id     Status\n",
       "0           101  Confirmed\n",
       "1           102   Waitlist\n",
       "2           103  Confirmed\n",
       "3           104  Confirmed\n",
       "4           105  Confirmed\n",
       "5           106   Waitlist\n",
       "6           107  Confirmed"
      ],
      "text/html": [
       "<div>\n",
       "<style scoped>\n",
       "    .dataframe tbody tr th:only-of-type {\n",
       "        vertical-align: middle;\n",
       "    }\n",
       "\n",
       "    .dataframe tbody tr th {\n",
       "        vertical-align: top;\n",
       "    }\n",
       "\n",
       "    .dataframe thead th {\n",
       "        text-align: right;\n",
       "    }\n",
       "</style>\n",
       "<table border=\"1\" class=\"dataframe\">\n",
       "  <thead>\n",
       "    <tr style=\"text-align: right;\">\n",
       "      <th></th>\n",
       "      <th>passenger_id</th>\n",
       "      <th>Status</th>\n",
       "    </tr>\n",
       "  </thead>\n",
       "  <tbody>\n",
       "    <tr>\n",
       "      <th>0</th>\n",
       "      <td>101</td>\n",
       "      <td>Confirmed</td>\n",
       "    </tr>\n",
       "    <tr>\n",
       "      <th>1</th>\n",
       "      <td>102</td>\n",
       "      <td>Waitlist</td>\n",
       "    </tr>\n",
       "    <tr>\n",
       "      <th>2</th>\n",
       "      <td>103</td>\n",
       "      <td>Confirmed</td>\n",
       "    </tr>\n",
       "    <tr>\n",
       "      <th>3</th>\n",
       "      <td>104</td>\n",
       "      <td>Confirmed</td>\n",
       "    </tr>\n",
       "    <tr>\n",
       "      <th>4</th>\n",
       "      <td>105</td>\n",
       "      <td>Confirmed</td>\n",
       "    </tr>\n",
       "    <tr>\n",
       "      <th>5</th>\n",
       "      <td>106</td>\n",
       "      <td>Waitlist</td>\n",
       "    </tr>\n",
       "    <tr>\n",
       "      <th>6</th>\n",
       "      <td>107</td>\n",
       "      <td>Confirmed</td>\n",
       "    </tr>\n",
       "  </tbody>\n",
       "</table>\n",
       "</div>"
      ]
     },
     "metadata": {},
     "output_type": "display_data"
    }
   ],
   "execution_count": 30
  },
  {
   "metadata": {
    "ExecuteTime": {
     "end_time": "2025-03-13T20:30:22.730731Z",
     "start_time": "2025-03-13T20:30:22.716560Z"
    }
   },
   "cell_type": "code",
   "source": "",
   "id": "45441651e0c03fc8",
   "outputs": [],
   "execution_count": null
  }
 ],
 "metadata": {
  "kernelspec": {
   "display_name": "Python 3",
   "language": "python",
   "name": "python3"
  },
  "language_info": {
   "codemirror_mode": {
    "name": "ipython",
    "version": 2
   },
   "file_extension": ".py",
   "mimetype": "text/x-python",
   "name": "python",
   "nbconvert_exporter": "python",
   "pygments_lexer": "ipython2",
   "version": "2.7.6"
  }
 },
 "nbformat": 4,
 "nbformat_minor": 5
}
