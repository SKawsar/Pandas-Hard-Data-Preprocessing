{
 "cells": [
  {
   "metadata": {},
   "cell_type": "markdown",
   "source": [
    "Are you looking for the second most recent activity for each user in a dataset? This is a common challenge when managing time-based records—especially if some users may have multiple entries while others have only one. In this post, we’ll explore an example problem where each user can perform activities at different times, and we need to extract their second most recent one. If a user has only one entry, we’ll simply return that. By walking through this scenario, you’ll learn practical techniques you can apply to your own data analysis tasks.\n",
    "\n",
    "We have a table **UserActivity** with the following schema:\n",
    "\n",
    "| Column Name | Type    |\n",
    "|-------------|---------|\n",
    "| username    | varchar |\n",
    "| activity    | varchar |\n",
    "| startDate   | Date    |\n",
    "| endDate     | Date    |\n",
    "\n",
    "- **Purpose**: We want to retrieve each user's **second most recent** activity based on their `startDate` and `endDate`.\n",
    "- **Condition**: If a user only has **one** activity, we return that **single** activity.\n",
    "- **Assumption**: A user **cannot** perform more than one activity at the same time (no overlapping intervals).\n",
    "\n",
    "**Input** (UserActivity table):\n",
    "\n",
    "| username | activity | startDate  | endDate    |\n",
    "|----------|----------|------------|------------|\n",
    "| Alice    | Travel   | 2020-02-12 | 2020-02-20 |\n",
    "| Alice    | Dancing  | 2020-02-21 | 2020-02-23 |\n",
    "| Alice    | Travel   | 2020-02-24 | 2020-02-28 |\n",
    "| Bob      | Travel   | 2020-02-11 | 2020-02-18 |\n",
    "\n",
    "**Output**:\n",
    "\n",
    "| username | activity | startDate  | endDate    |\n",
    "|----------|----------|------------|------------|\n",
    "| Alice    | Dancing  | 2020-02-21 | 2020-02-23 |\n",
    "| Bob      | Travel   | 2020-02-11 | 2020-02-18 |\n",
    "\n",
    "**Explanation**:\n",
    "- Alice’s most recent activity is **Travel** from `2020-02-24` to `2020-02-28`.\n",
    "- Her second most recent activity (the one right before that) is **Dancing** from `2020-02-21` to `2020-02-23`.\n",
    "- Bob only has one record, so we simply take his single entry.\n"
   ],
   "id": "452011cb70afc6ac"
  },
  {
   "cell_type": "code",
   "id": "307d47f3",
   "metadata": {
    "ExecuteTime": {
     "end_time": "2025-01-18T01:41:00.310957Z",
     "start_time": "2025-01-18T01:40:58.974309Z"
    }
   },
   "source": [
    "import pandas as pd\n",
    "\n",
    "data = [['Alice', 'Travel', '2020-02-12', '2020-02-20'], \n",
    "        ['Alice', 'Dancing', '2020-02-21', '2020-02-23'], \n",
    "        ['Alice', 'Travel', '2020-02-24', '2020-02-28'], \n",
    "        ['Bob', 'Travel', '2020-02-11', '2020-02-18']]\n",
    "user_activity = pd.DataFrame(data, \n",
    "                             columns=['username', \n",
    "                                      'activity', \n",
    "                                      'startDate', \n",
    "                                      'endDate']).astype({'username':'object', \n",
    "                                                          'activity':'object', \n",
    "                                                          'startDate':'datetime64[ns]', \n",
    "                                                          'endDate':'datetime64[ns]'})\n",
    "\n",
    "display(user_activity)"
   ],
   "outputs": [
    {
     "data": {
      "text/plain": [
       "  username activity  startDate    endDate\n",
       "0    Alice   Travel 2020-02-12 2020-02-20\n",
       "1    Alice  Dancing 2020-02-21 2020-02-23\n",
       "2    Alice   Travel 2020-02-24 2020-02-28\n",
       "3      Bob   Travel 2020-02-11 2020-02-18"
      ],
      "text/html": [
       "<div>\n",
       "<style scoped>\n",
       "    .dataframe tbody tr th:only-of-type {\n",
       "        vertical-align: middle;\n",
       "    }\n",
       "\n",
       "    .dataframe tbody tr th {\n",
       "        vertical-align: top;\n",
       "    }\n",
       "\n",
       "    .dataframe thead th {\n",
       "        text-align: right;\n",
       "    }\n",
       "</style>\n",
       "<table border=\"1\" class=\"dataframe\">\n",
       "  <thead>\n",
       "    <tr style=\"text-align: right;\">\n",
       "      <th></th>\n",
       "      <th>username</th>\n",
       "      <th>activity</th>\n",
       "      <th>startDate</th>\n",
       "      <th>endDate</th>\n",
       "    </tr>\n",
       "  </thead>\n",
       "  <tbody>\n",
       "    <tr>\n",
       "      <th>0</th>\n",
       "      <td>Alice</td>\n",
       "      <td>Travel</td>\n",
       "      <td>2020-02-12</td>\n",
       "      <td>2020-02-20</td>\n",
       "    </tr>\n",
       "    <tr>\n",
       "      <th>1</th>\n",
       "      <td>Alice</td>\n",
       "      <td>Dancing</td>\n",
       "      <td>2020-02-21</td>\n",
       "      <td>2020-02-23</td>\n",
       "    </tr>\n",
       "    <tr>\n",
       "      <th>2</th>\n",
       "      <td>Alice</td>\n",
       "      <td>Travel</td>\n",
       "      <td>2020-02-24</td>\n",
       "      <td>2020-02-28</td>\n",
       "    </tr>\n",
       "    <tr>\n",
       "      <th>3</th>\n",
       "      <td>Bob</td>\n",
       "      <td>Travel</td>\n",
       "      <td>2020-02-11</td>\n",
       "      <td>2020-02-18</td>\n",
       "    </tr>\n",
       "  </tbody>\n",
       "</table>\n",
       "</div>"
      ]
     },
     "metadata": {},
     "output_type": "display_data"
    }
   ],
   "execution_count": 1
  },
  {
   "metadata": {},
   "cell_type": "markdown",
   "source": [
    "**Step 1: Count the number of records per username**\n",
    "\n",
    "- groupby(\"username\") splits the data by username.\n",
    "- [\"startDate\"].transform(\"count\") calculates how many rows each username group has by counting the startDate column.\n",
    "- The result of .transform(\"count\") is assigned to user_activity[\"username_count\"], giving each row the total number of rows associated with its username.\n",
    "\n",
    "**Step 2: Rank the records for each username**\n",
    "    \n",
    "- Again, groupby(\"username\") groups rows by each username.\n",
    "- rank(method=\"dense\", ascending=False) computes a rank for each row within its username group, based on the values in startDate.\n",
    "- ascending=False means the row with the largest (or most recent) startDate gets rank 1, the next largest gets rank 2, and so on.\n",
    "- Dense ranking means that if there is a tie, all tied rows share the same rank, and the next distinct value immediately gets the next rank (no gaps)."
   ],
   "id": "ffffbbf5c9c58794"
  },
  {
   "cell_type": "code",
   "id": "1f5ab7a7",
   "metadata": {
    "ExecuteTime": {
     "end_time": "2025-01-18T01:41:00.317447Z",
     "start_time": "2025-01-18T01:41:00.311946Z"
    }
   },
   "source": [
    "user_activity[\"username_count\"] = user_activity.groupby([\"username\"])[\n",
    "                                                         \"startDate\"].transform(\"count\")\n",
    "\n",
    "user_activity[\"rank\"] = user_activity.groupby([\"username\"])[\n",
    "                                               \"startDate\"].rank(method=\"dense\",\n",
    "                                                                 ascending=False)\n",
    "\n",
    "display(user_activity)"
   ],
   "outputs": [
    {
     "data": {
      "text/plain": [
       "  username activity  startDate    endDate  username_count  rank\n",
       "0    Alice   Travel 2020-02-12 2020-02-20               3   3.0\n",
       "1    Alice  Dancing 2020-02-21 2020-02-23               3   2.0\n",
       "2    Alice   Travel 2020-02-24 2020-02-28               3   1.0\n",
       "3      Bob   Travel 2020-02-11 2020-02-18               1   1.0"
      ],
      "text/html": [
       "<div>\n",
       "<style scoped>\n",
       "    .dataframe tbody tr th:only-of-type {\n",
       "        vertical-align: middle;\n",
       "    }\n",
       "\n",
       "    .dataframe tbody tr th {\n",
       "        vertical-align: top;\n",
       "    }\n",
       "\n",
       "    .dataframe thead th {\n",
       "        text-align: right;\n",
       "    }\n",
       "</style>\n",
       "<table border=\"1\" class=\"dataframe\">\n",
       "  <thead>\n",
       "    <tr style=\"text-align: right;\">\n",
       "      <th></th>\n",
       "      <th>username</th>\n",
       "      <th>activity</th>\n",
       "      <th>startDate</th>\n",
       "      <th>endDate</th>\n",
       "      <th>username_count</th>\n",
       "      <th>rank</th>\n",
       "    </tr>\n",
       "  </thead>\n",
       "  <tbody>\n",
       "    <tr>\n",
       "      <th>0</th>\n",
       "      <td>Alice</td>\n",
       "      <td>Travel</td>\n",
       "      <td>2020-02-12</td>\n",
       "      <td>2020-02-20</td>\n",
       "      <td>3</td>\n",
       "      <td>3.0</td>\n",
       "    </tr>\n",
       "    <tr>\n",
       "      <th>1</th>\n",
       "      <td>Alice</td>\n",
       "      <td>Dancing</td>\n",
       "      <td>2020-02-21</td>\n",
       "      <td>2020-02-23</td>\n",
       "      <td>3</td>\n",
       "      <td>2.0</td>\n",
       "    </tr>\n",
       "    <tr>\n",
       "      <th>2</th>\n",
       "      <td>Alice</td>\n",
       "      <td>Travel</td>\n",
       "      <td>2020-02-24</td>\n",
       "      <td>2020-02-28</td>\n",
       "      <td>3</td>\n",
       "      <td>1.0</td>\n",
       "    </tr>\n",
       "    <tr>\n",
       "      <th>3</th>\n",
       "      <td>Bob</td>\n",
       "      <td>Travel</td>\n",
       "      <td>2020-02-11</td>\n",
       "      <td>2020-02-18</td>\n",
       "      <td>1</td>\n",
       "      <td>1.0</td>\n",
       "    </tr>\n",
       "  </tbody>\n",
       "</table>\n",
       "</div>"
      ]
     },
     "metadata": {},
     "output_type": "display_data"
    }
   ],
   "execution_count": 2
  },
  {
   "metadata": {},
   "cell_type": "markdown",
   "source": [
    "**Step 3: Define conditions and filter the DataFrame**\n",
    "\n",
    "- condition_1 checks if a row belongs to a username that appears exactly once in the DataFrame.\n",
    "- condition_2 checks if a row belongs to a username that appears more than once and the row is the second-ranked (i.e., rank == 2).\n",
    "- condition_1 | condition_2 (logical OR) retains rows where either the username is unique or the row is the second occurrence for usernames with multiple rows.\n",
    "- Assigning this filter back to user_activity drops all other rows.\n",
    "\n"
   ],
   "id": "ac566dde6069aa0b"
  },
  {
   "cell_type": "code",
   "id": "82431423",
   "metadata": {
    "ExecuteTime": {
     "end_time": "2025-01-18T01:41:00.322115Z",
     "start_time": "2025-01-18T01:41:00.318172Z"
    }
   },
   "source": [
    "condition_1 = (user_activity[\"username_count\"]==1)\n",
    "condition_2 = ((user_activity[\"username_count\"]>1) & (user_activity[\"rank\"]==2))\n",
    "user_activity = user_activity[condition_1 | condition_2]\n",
    "display(user_activity)"
   ],
   "outputs": [
    {
     "data": {
      "text/plain": [
       "  username activity  startDate    endDate  username_count  rank\n",
       "1    Alice  Dancing 2020-02-21 2020-02-23               3   2.0\n",
       "3      Bob   Travel 2020-02-11 2020-02-18               1   1.0"
      ],
      "text/html": [
       "<div>\n",
       "<style scoped>\n",
       "    .dataframe tbody tr th:only-of-type {\n",
       "        vertical-align: middle;\n",
       "    }\n",
       "\n",
       "    .dataframe tbody tr th {\n",
       "        vertical-align: top;\n",
       "    }\n",
       "\n",
       "    .dataframe thead th {\n",
       "        text-align: right;\n",
       "    }\n",
       "</style>\n",
       "<table border=\"1\" class=\"dataframe\">\n",
       "  <thead>\n",
       "    <tr style=\"text-align: right;\">\n",
       "      <th></th>\n",
       "      <th>username</th>\n",
       "      <th>activity</th>\n",
       "      <th>startDate</th>\n",
       "      <th>endDate</th>\n",
       "      <th>username_count</th>\n",
       "      <th>rank</th>\n",
       "    </tr>\n",
       "  </thead>\n",
       "  <tbody>\n",
       "    <tr>\n",
       "      <th>1</th>\n",
       "      <td>Alice</td>\n",
       "      <td>Dancing</td>\n",
       "      <td>2020-02-21</td>\n",
       "      <td>2020-02-23</td>\n",
       "      <td>3</td>\n",
       "      <td>2.0</td>\n",
       "    </tr>\n",
       "    <tr>\n",
       "      <th>3</th>\n",
       "      <td>Bob</td>\n",
       "      <td>Travel</td>\n",
       "      <td>2020-02-11</td>\n",
       "      <td>2020-02-18</td>\n",
       "      <td>1</td>\n",
       "      <td>1.0</td>\n",
       "    </tr>\n",
       "  </tbody>\n",
       "</table>\n",
       "</div>"
      ]
     },
     "metadata": {},
     "output_type": "display_data"
    }
   ],
   "execution_count": 3
  },
  {
   "metadata": {},
   "cell_type": "markdown",
   "source": [
    "**Step 4: Drop the helper columns**\n",
    "\n",
    "- After using username_count and rank to identify and filter the desired rows, these columns are no longer needed.\n",
    "- drop(columns=[...]) removes them from the DataFrame."
   ],
   "id": "6bed169856352338"
  },
  {
   "cell_type": "code",
   "id": "69d9dbd4",
   "metadata": {
    "ExecuteTime": {
     "end_time": "2025-01-18T01:41:00.326380Z",
     "start_time": "2025-01-18T01:41:00.323141Z"
    }
   },
   "source": [
    "user_activity = user_activity.drop(columns=['username_count', 'rank'])\n",
    "display(user_activity)"
   ],
   "outputs": [
    {
     "data": {
      "text/plain": [
       "  username activity  startDate    endDate\n",
       "1    Alice  Dancing 2020-02-21 2020-02-23\n",
       "3      Bob   Travel 2020-02-11 2020-02-18"
      ],
      "text/html": [
       "<div>\n",
       "<style scoped>\n",
       "    .dataframe tbody tr th:only-of-type {\n",
       "        vertical-align: middle;\n",
       "    }\n",
       "\n",
       "    .dataframe tbody tr th {\n",
       "        vertical-align: top;\n",
       "    }\n",
       "\n",
       "    .dataframe thead th {\n",
       "        text-align: right;\n",
       "    }\n",
       "</style>\n",
       "<table border=\"1\" class=\"dataframe\">\n",
       "  <thead>\n",
       "    <tr style=\"text-align: right;\">\n",
       "      <th></th>\n",
       "      <th>username</th>\n",
       "      <th>activity</th>\n",
       "      <th>startDate</th>\n",
       "      <th>endDate</th>\n",
       "    </tr>\n",
       "  </thead>\n",
       "  <tbody>\n",
       "    <tr>\n",
       "      <th>1</th>\n",
       "      <td>Alice</td>\n",
       "      <td>Dancing</td>\n",
       "      <td>2020-02-21</td>\n",
       "      <td>2020-02-23</td>\n",
       "    </tr>\n",
       "    <tr>\n",
       "      <th>3</th>\n",
       "      <td>Bob</td>\n",
       "      <td>Travel</td>\n",
       "      <td>2020-02-11</td>\n",
       "      <td>2020-02-18</td>\n",
       "    </tr>\n",
       "  </tbody>\n",
       "</table>\n",
       "</div>"
      ]
     },
     "metadata": {},
     "output_type": "display_data"
    }
   ],
   "execution_count": 4
  },
  {
   "cell_type": "markdown",
   "id": "16d0a16a",
   "metadata": {},
   "source": [
    "References: [1] https://leetcode.com/problems/get-the-second-most-recent-activity/description/?lang=pythondata"
   ]
  }
 ],
 "metadata": {
  "kernelspec": {
   "display_name": "Python 3 (ipykernel)",
   "language": "python",
   "name": "python3"
  },
  "language_info": {
   "codemirror_mode": {
    "name": "ipython",
    "version": 3
   },
   "file_extension": ".py",
   "mimetype": "text/x-python",
   "name": "python",
   "nbconvert_exporter": "python",
   "pygments_lexer": "ipython3",
   "version": "3.11.4"
  }
 },
 "nbformat": 4,
 "nbformat_minor": 5
}
